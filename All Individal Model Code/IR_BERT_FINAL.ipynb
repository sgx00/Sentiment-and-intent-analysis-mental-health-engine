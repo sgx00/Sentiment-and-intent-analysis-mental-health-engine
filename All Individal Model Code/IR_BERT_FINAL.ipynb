{
  "cells": [
    {
      "cell_type": "code",
      "execution_count": null,
      "metadata": {
        "colab": {
          "base_uri": "https://localhost:8080/"
        },
        "id": "2-lIJb54EyTh",
        "outputId": "b539c410-3bc2-4e90-acb4-c6244af1a735"
      },
      "outputs": [
        {
          "name": "stdout",
          "output_type": "stream",
          "text": [
            "Drive already mounted at /content/drive; to attempt to forcibly remount, call drive.mount(\"/content/drive\", force_remount=True).\n"
          ]
        }
      ],
      "source": [
        "# from google.colab import drive\n",
        "# drive.mount('/content/drive')"
      ]
    },
    {
      "cell_type": "code",
      "execution_count": null,
      "metadata": {
        "colab": {
          "base_uri": "https://localhost:8080/"
        },
        "id": "e7_rVaxNCmQA",
        "outputId": "25be8d4f-53e6-4247-a634-c7ec154f9241"
      },
      "outputs": [
        {
          "name": "stdout",
          "output_type": "stream",
          "text": [
            "There are 1 GPU(s) available.\n",
            "Device name: Tesla V100-SXM2-16GB\n"
          ]
        }
      ],
      "source": [
        "import torch\n",
        "\n",
        "# Check if GPU is available and set device to GPU\n",
        "if torch.cuda.is_available():\n",
        "    device = torch.device(\"cuda\")\n",
        "    print(f'There are {torch.cuda.device_count()} GPU(s) available.')\n",
        "    print('Device name:', torch.cuda.get_device_name(0))\n",
        "else:\n",
        "    print('No GPU available -> use CPU instead.')\n",
        "    device = torch.device(\"cpu\")"
      ]
    },
    {
      "cell_type": "code",
      "execution_count": null,
      "metadata": {
        "id": "Q3OZmE3foAu8"
      },
      "outputs": [],
      "source": [
        "import pandas as pd\n",
        "from sklearn.model_selection import train_test_split\n",
        "\n",
        "# Define paths for datasets\n",
        "# evaluation_dataset_path = '/content/drive/My Drive/IR Classification/Dataset/evaluation_dataset.csv'\n",
        "# initial_labeling_dataset_path = '/content/drive/My Drive/IR Classification/Dataset/initial_labeling_dataset.csv'\n",
        "# semi_supervised_dataset_path = '/content/drive/My Drive/IR Classification/Dataset/semi_supervised_dataset.csv'\n",
        "evaluation_dataset_path = './evaluation_dataset.csv'\n",
        "initial_labeling_dataset_path = './initial_labeling_dataset.csv'\n",
        "semi_supervised_dataset_path = './semi_supervised_dataset.csv'\n",
        "\n",
        "# Load datasets\n",
        "df_evaluation_subjective = pd.read_csv(evaluation_dataset_path)\n",
        "df_initial_labeling_subjective = pd.read_csv(initial_labeling_dataset_path)\n",
        "df_semi_supervised_subjective = pd.read_csv(semi_supervised_dataset_path)"
      ]
    },
    {
      "cell_type": "code",
      "execution_count": null,
      "metadata": {
        "id": "554FJFpnboSq"
      },
      "outputs": [],
      "source": [
        "from transformers import BertTokenizer, BertForSequenceClassification, get_linear_schedule_with_warmup\n",
        "import torch\n",
        "from torch.utils.data import DataLoader, TensorDataset, RandomSampler, SequentialSampler\n",
        "from torch.optim import AdamW\n",
        "from tqdm.notebook import tqdm\n",
        "from sklearn.metrics import precision_recall_fscore_support, confusion_matrix, classification_report\n",
        "import matplotlib.pyplot as plt\n",
        "import seaborn as sns\n",
        "\n",
        "def train_model(model, dataloader, optimizer):\n",
        "    \"\"\"Train the model on training data.\"\"\"\n",
        "    model.train()  # Set model to training mode\n",
        "    total_train_loss = 0\n",
        "\n",
        "    # Iterate over batches\n",
        "    for batch in tqdm(dataloader, desc=\"Training\"):\n",
        "        batch = tuple(b.to(device) for b in batch)\n",
        "        inputs = {'input_ids': batch[0], 'attention_mask': batch[1], 'labels': batch[2]}\n",
        "        optimizer.zero_grad()  # Clear previous gradients\n",
        "        outputs = model(**inputs)  # Forward pass\n",
        "        loss = outputs[0]  # Get loss\n",
        "        total_train_loss += loss.item()  # Accumulate loss\n",
        "        loss.backward()  # Backward pass\n",
        "        optimizer.step()  # Update weights\n",
        "\n",
        "    # Compute average loss\n",
        "    avg_train_loss = total_train_loss / len(dataloader)\n",
        "    print(f\"Average training loss: {avg_train_loss}\")\n",
        "\n",
        "def evaluate_model(model, dataloader):\n",
        "    \"\"\"Evaluate the model's performance on a dataset.\"\"\"\n",
        "    model.eval()  # Set model to evaluation mode\n",
        "    total_eval_accuracy = 0\n",
        "    all_preds = []\n",
        "    all_labels = []\n",
        "\n",
        "    # Iterate over batches\n",
        "    for batch in tqdm(dataloader, desc=\"Evaluating\"):\n",
        "        batch = tuple(b.to(device) for b in batch)\n",
        "        inputs = {'input_ids': batch[0], 'attention_mask': batch[1], 'labels': batch[2]}\n",
        "\n",
        "        with torch.no_grad():  # Disable gradient calculation\n",
        "            outputs = model(**inputs)\n",
        "\n",
        "        logits = outputs[1]\n",
        "        preds = torch.argmax(logits, dim=1).flatten()  # Get predictions\n",
        "\n",
        "        # Accumulate predictions and labels\n",
        "        all_preds.extend(preds.tolist())\n",
        "        all_labels.extend(inputs['labels'].flatten().tolist())\n",
        "\n",
        "        # Calculate accuracy\n",
        "        total_eval_accuracy += torch.sum(preds == inputs['labels'].flatten()).item()\n",
        "\n",
        "    # Compute average accuracy\n",
        "    avg_accuracy = total_eval_accuracy / len(dataloader.dataset)\n",
        "    print(f\"Accuracy: {avg_accuracy}\")\n",
        "\n",
        "    # Generate confusion matrix and classification report\n",
        "    cm = confusion_matrix(all_labels, all_preds, labels=[0, 1, 2])\n",
        "    report = classification_report(all_labels, all_preds, target_names=['Negative', 'Neutral', 'Positive'], digits=4)\n",
        "    print(\"\\nClassification Report:\")\n",
        "    print(report)\n",
        "    return cm, report\n",
        "\n",
        "def prepare_dataloader(df, tokenizer, batch_size=32, max_length=256):\n",
        "    \"\"\"Creates a DataLoader for model training or evaluation.\"\"\"\n",
        "    # Fill missing text entries\n",
        "    df['post_comment_processed'].fillna(\"\", inplace=True)\n",
        "\n",
        "    # Map sentiment labels to integers\n",
        "    sentiment_mapping = {'negative': 0, 'neutral': 1, 'positive': 2}\n",
        "    labels = df['sentiment'].map(sentiment_mapping).values\n",
        "    labels = torch.tensor(labels).long()\n",
        "\n",
        "    # Tokenize text\n",
        "    encoding = tokenizer(df['post_comment_processed'].tolist(),\n",
        "                         add_special_tokens=True,\n",
        "                         max_length=max_length,\n",
        "                         padding='max_length',\n",
        "                         truncation=True,\n",
        "                         return_tensors='pt')\n",
        "\n",
        "    # Create TensorDataset and DataLoader\n",
        "    dataset = TensorDataset(encoding['input_ids'], encoding['attention_mask'], labels)\n",
        "    dataloader = DataLoader(dataset, sampler=RandomSampler(dataset), batch_size=batch_size)\n",
        "\n",
        "    return dataloader\n",
        "\n",
        "def generate_pseudo_labels(model, data_loader, tokenizer, device, confidence_threshold=0.9):\n",
        "    \"\"\"Generates pseudo-labels for unlabeled data using the model.\"\"\"\n",
        "    model.eval()  # Set model to evaluation mode\n",
        "    pseudo_labels = []\n",
        "\n",
        "    with torch.no_grad():  # Disable gradient calculation\n",
        "        for batch in tqdm(data_loader, desc=\"Pseudo-labeling\"):\n",
        "            # Move batch to device\n",
        "            input_ids, attention_mask = batch[:2]\n",
        "            input_ids, attention_mask = input_ids.to(device), attention_mask.to(device)\n",
        "\n",
        "            # Model prediction\n",
        "            outputs = model(input_ids, attention_mask=attention_mask)\n",
        "            probs = torch.nn.functional.softmax(outputs.logits, dim=-1)\n",
        "            max_probs, preds = torch.max(probs, dim=1)\n",
        "\n",
        "            # Select high-confidence predictions\n",
        "            high_confidence_indices = max_probs > confidence_threshold\n",
        "            high_confidence_texts = tokenizer.batch_decode(input_ids[high_confidence_indices], skip_special_tokens=True)\n",
        "            high_confidence_labels = preds[high_confidence_indices].tolist()\n",
        "\n",
        "            pseudo_labels.extend(zip(high_confidence_texts, high_confidence_labels))\n",
        "\n",
        "    # Create DataFrame for pseudo-labeled data\n",
        "    df_pseudo_labels = pd.DataFrame(pseudo_labels, columns=['post_comment_processed', 'sentiment'])\n",
        "    df_pseudo_labels['sentiment'] = df_pseudo_labels['sentiment'].map({0: 'negative', 1: 'neutral', 2: 'positive'})\n",
        "\n",
        "    return df_pseudo_labels\n",
        "\n",
        "def update_semi_supervised_dataset(original_df, pseudo_labeled_df):\n",
        "    \"\"\"Updates the dataset by removing pseudo-labeled examples.\"\"\"\n",
        "    return original_df[~original_df['post_comment_processed'].isin(pseudo_labeled_df['post_comment_processed'])]\n"
      ]
    },
    {
      "cell_type": "code",
      "execution_count": null,
      "metadata": {
        "colab": {
          "background_save": true,
          "base_uri": "https://localhost:8080/",
          "height": 1000,
          "referenced_widgets": [
            "8af9aa0ec84e49a195f732bb1923eb1f",
            "c4e35fd9a65d4c8d88f8564a2b77731b",
            "01e1ec54c58241b1a6dca810e1914a19",
            "3d747e2550f24159bb599dcb1d89c3bf",
            "5ce85a94ee364b8a980df9b1397618f1",
            "4d33b97c23894921bfda96dbf8c00479",
            "cb0b28850c1746eeac68ba486dab086c",
            "14b8be09edf94bc79d9b76505a9e5dc4",
            "a28aa085b4744eeb813ae8575013dab1",
            "dd326d0cc49e4d51bc1029b44b8a5631",
            "c17d797c7dab45aeaf87efdd39d1583c",
            "95aa0f051903406fbdaa73bd88a68f1d",
            "8c061cc5e1c5430d98460188e5731114",
            "34186ff0fe7b45819aa893b105369f10",
            "ba4016cedcd64024ba2dab3b17925ae0",
            "a2e69ac00ca04127aa7adad3112f9aa0",
            "ffc9bb993b0a455db0cdd2921ad3defe",
            "9eb632e5ebee4d929b9b3da8716a59f1",
            "ba25c6ee5f8a4e2cb963c90d54cb724e",
            "f3079a34686b4185a4bef048fe980c7f",
            "e4e683fde3b84548b56f026d5c64f4c7",
            "acdce086c19f402e84be5d3a43ca4efe",
            "02b2420dcf594869912175ad842a1f1d",
            "7c1207b443864896a0363df8950a47dd",
            "abfe8b5a8804462b87be78ae420c5165",
            "71fad0f5862a4f7eb0861d29235a7c3d",
            "a799daff980f49e9943ca9521ae7facb",
            "974fe668ebad4fc0a49575f1df9f61d7",
            "4bbc6565d4a24993b5548928bde9bbb1",
            "639dfe9923a645fd9f063d319611e7d4",
            "cf2f89241b41401e9336a6ec2fbe89a7",
            "56a9770ca0cd4a5ebb8df6748a4793a9",
            "df03406298f94f1db462df4007c99895",
            "b92c657134f948e2955eba4cfea3f419",
            "bd9896fb3b5d4e0096bbe81f0d22fef4",
            "24358a0ca54d42a48066b315752ce0f6",
            "aa1cbf0fca7747739b34ce6f38dba867",
            "8fd8b653fada48f79e0eb9b6940dfc41",
            "0321c83141eb409f98b740c15d16373b",
            "99483e6f13f6400bbf7b00c2713ccd5c",
            "ac05f6ec183e49a7a7537d7fb2c62d91",
            "37ac8ad1411a4a9cbb5891e7dbd56b13",
            "76aef916224b40b7bfc87d5c1b594e98",
            "d19ed4af36cd4597869a020b4329b0df",
            "f347bf013ede4eab9c5e10465558d643",
            "7e207e313a6646aa803fd63ef5d5d761",
            "124157f800154a57ae61581ea2b8cbd5",
            "59adb31ee0384465a8a512697b457e9c",
            "3b7fb640e2a34c9db4a659ed085af852",
            "cdb7f5179e9544e58ec1202fa701c060",
            "d8f40b1129e64e7282312ccc465ab3c6",
            "ae95bc6f78174a6cb2e3490d051bda6d",
            "3adcb52e88374a86b6efc736ad1f93ca",
            "0fc35e1929cb4511948a83e24a0e8655",
            "230cfee3ebd9405185d20171ce2a897a",
            "198d24a13e63401b9255546c1529f1c8",
            "c6c2c757bd644371938ccf6512979710",
            "02735360e5d84b26bc2caf867e31acf5",
            "ef98e243cdb74d0d84d0ad99a838ff8c",
            "16049eeb5dab4601aef2ce00952a12d7",
            "c606e15df00b48b8b17ba6cd5dc0efe2",
            "685bde8173fc44c698f7ad3fa565a5cd",
            "d39b8a759e1d419a8bba077b86eec07d",
            "ed3759d5303b46d8b42ee9f7d6b755cf",
            "3a6abe959d844d64b25170755290cb8a",
            "b704e0006ed1439f9cb6e6109247521b",
            "9aae3c4054e64e0780f279b99efea92e",
            "46e015b257d141c8be9ddbd01f994467",
            "35b5dc48b32c407192258788fd28ecb4",
            "2c9ec7171d8f4ad3a4efe372e24ea29f",
            "bcfa352cff794a349dfd8fa312372b8e",
            "b338c11691c1439ca8f4508ec4df8559",
            "829da30d21d043f99b0d9bd424432c33",
            "3dcafcbba0a84e50af8eb79bd739e684",
            "dff5bb52c4294d2ab9fcae8c1a306649",
            "a5aa41baf1084a47b44f79f8a0b5657f",
            "99f45765a69e4c9fbc922dcd3d8a0fb9",
            "004827c00b124c7295effa1a8984dfc2",
            "d1b9077eb2a54a48ba0b378d966f4c45",
            "cc15d270b14544d2b3d36c22214863eb",
            "63863839b74646929bc95d9a8d2694b6",
            "64277520ab5547719c5c0df57a25072b",
            "cfd4a30713af4916b57b82ff5f4413c2",
            "9b98216903904d2a94423b3154fa8e3e",
            "e66d045ecae64ca097ee3689e6db845d",
            "9d441ad79865482b96ec586830ca2458",
            "e28230fbd6254eee84d56973e5a9a9c8",
            "77e649cb91b646669a8f350b9b9da495",
            "b867b6674c074df5b371f46d1c68add2",
            "078b507fef8d423ca9acd6752cc36b19",
            "21785fab40d24a32931f8c34d9902d4f",
            "6f7df868d9964d9f8ebb98cae8de18af",
            "e395dd0640074fb6bca4274cbc56bc40",
            "a3efe89b37e94cd2bdbde11c2013b3ea",
            "5cc21c8bbfc84e16a527a3d2a6469902",
            "8b68794d89b44bc385bf3de604ce0291",
            "4fef53dc321344ae97d4f120fecc289b",
            "1ac0ddd7533d485d98e13d3803c34ae9",
            "b0dfa3d0b4a94d6ba16db1fb61d76719",
            "058cfd88a77042708323b62f17071b9c",
            "96a039c3ae28490aba3e3c161af7388c",
            "3e4d52d430cd472d86fb9453c4779bf2",
            "404999c7d42546fbbf983834284d51b2",
            "c82cdc4781194a58b1abef8b49ad515e",
            "a6c8887c51124d42854756d833ec8c4a",
            "69b9cd4cbb0d432dbb2e16f049a3eb0e",
            "b7dba79aa79c4743b2b8dce145c92112",
            "ad07fc7b9afb4bc791f662cb5445b250",
            "c2348dea96c34da3b8273ffd1dbb5c4f",
            "2ff6e26a2da04410bf9f0f786a93b9e0",
            "e089e4069ab948e6a315b3092c9093e8"
          ]
        },
        "id": "R-Jdip2qboVf",
        "outputId": "d6f016c0-5164-4acb-c79d-5d9cf3624908"
      },
      "outputs": [
        {
          "name": "stderr",
          "output_type": "stream",
          "text": [
            "/usr/local/lib/python3.10/dist-packages/huggingface_hub/utils/_token.py:88: UserWarning: \n",
            "The secret `HF_TOKEN` does not exist in your Colab secrets.\n",
            "To authenticate with the Hugging Face Hub, create a token in your settings tab (https://huggingface.co/settings/tokens), set it as secret in your Google Colab and restart your session.\n",
            "You will be able to reuse this secret in all of your notebooks.\n",
            "Please note that authentication is recommended but still optional to access public models or datasets.\n",
            "  warnings.warn(\n",
            "Some weights of BertForSequenceClassification were not initialized from the model checkpoint at bert-base-uncased and are newly initialized: ['classifier.bias', 'classifier.weight']\n",
            "You should probably TRAIN this model on a down-stream task to be able to use it for predictions and inference.\n"
          ]
        },
        {
          "name": "stdout",
          "output_type": "stream",
          "text": [
            "Iteration 1/14\n"
          ]
        },
        {
          "data": {
            "application/vnd.jupyter.widget-view+json": {
              "model_id": "8af9aa0ec84e49a195f732bb1923eb1f",
              "version_major": 2,
              "version_minor": 0
            },
            "text/plain": [
              "Training:   0%|          | 0/214 [00:00<?, ?it/s]"
            ]
          },
          "metadata": {},
          "output_type": "display_data"
        },
        {
          "name": "stdout",
          "output_type": "stream",
          "text": [
            "Average training loss: 0.746334858238697\n"
          ]
        },
        {
          "data": {
            "application/vnd.jupyter.widget-view+json": {
              "model_id": "95aa0f051903406fbdaa73bd88a68f1d",
              "version_major": 2,
              "version_minor": 0
            },
            "text/plain": [
              "Evaluating:   0%|          | 0/54 [00:00<?, ?it/s]"
            ]
          },
          "metadata": {},
          "output_type": "display_data"
        },
        {
          "name": "stdout",
          "output_type": "stream",
          "text": [
            "Accuracy: 0.7371495327102804\n",
            "\n",
            "Classification Report:\n",
            "              precision    recall  f1-score   support\n",
            "\n",
            "    Negative     0.6024    0.4630    0.5236       216\n",
            "     Neutral     0.7231    0.7176    0.7203       131\n",
            "    Positive     0.7804    0.8585    0.8176       509\n",
            "\n",
            "    accuracy                         0.7371       856\n",
            "   macro avg     0.7019    0.6797    0.6872       856\n",
            "weighted avg     0.7267    0.7371    0.7285       856\n",
            "\n",
            "Remaining unlabeled data after iteration 1: 9978\n",
            "Iteration 2/14\n"
          ]
        },
        {
          "data": {
            "application/vnd.jupyter.widget-view+json": {
              "model_id": "02b2420dcf594869912175ad842a1f1d",
              "version_major": 2,
              "version_minor": 0
            },
            "text/plain": [
              "Pseudo-labeling:   0%|          | 0/624 [00:00<?, ?it/s]"
            ]
          },
          "metadata": {},
          "output_type": "display_data"
        },
        {
          "data": {
            "application/vnd.jupyter.widget-view+json": {
              "model_id": "b92c657134f948e2955eba4cfea3f419",
              "version_major": 2,
              "version_minor": 0
            },
            "text/plain": [
              "Training:   0%|          | 0/216 [00:00<?, ?it/s]"
            ]
          },
          "metadata": {},
          "output_type": "display_data"
        },
        {
          "name": "stdout",
          "output_type": "stream",
          "text": [
            "Average training loss: 0.47578641941288\n"
          ]
        },
        {
          "data": {
            "application/vnd.jupyter.widget-view+json": {
              "model_id": "f347bf013ede4eab9c5e10465558d643",
              "version_major": 2,
              "version_minor": 0
            },
            "text/plain": [
              "Evaluating:   0%|          | 0/54 [00:00<?, ?it/s]"
            ]
          },
          "metadata": {},
          "output_type": "display_data"
        },
        {
          "name": "stdout",
          "output_type": "stream",
          "text": [
            "Accuracy: 0.7850467289719626\n",
            "\n",
            "Classification Report:\n",
            "              precision    recall  f1-score   support\n",
            "\n",
            "    Negative     0.6105    0.8056    0.6946       216\n",
            "     Neutral     0.7671    0.8550    0.8087       131\n",
            "    Positive     0.9082    0.7583    0.8266       509\n",
            "\n",
            "    accuracy                         0.7850       856\n",
            "   macro avg     0.7620    0.8063    0.7766       856\n",
            "weighted avg     0.8115    0.7850    0.7905       856\n",
            "\n",
            "Remaining unlabeled data after iteration 2: 9951\n",
            "Iteration 3/14\n"
          ]
        },
        {
          "name": "stderr",
          "output_type": "stream",
          "text": [
            "<ipython-input-4-3b8bf05e255a>:73: SettingWithCopyWarning: \n",
            "A value is trying to be set on a copy of a slice from a DataFrame\n",
            "\n",
            "See the caveats in the documentation: https://pandas.pydata.org/pandas-docs/stable/user_guide/indexing.html#returning-a-view-versus-a-copy\n",
            "  df['post_comment_processed'].fillna(\"\", inplace=True)\n"
          ]
        },
        {
          "data": {
            "application/vnd.jupyter.widget-view+json": {
              "model_id": "198d24a13e63401b9255546c1529f1c8",
              "version_major": 2,
              "version_minor": 0
            },
            "text/plain": [
              "Pseudo-labeling:   0%|          | 0/622 [00:00<?, ?it/s]"
            ]
          },
          "metadata": {},
          "output_type": "display_data"
        },
        {
          "data": {
            "application/vnd.jupyter.widget-view+json": {
              "model_id": "9aae3c4054e64e0780f279b99efea92e",
              "version_major": 2,
              "version_minor": 0
            },
            "text/plain": [
              "Training:   0%|          | 0/383 [00:00<?, ?it/s]"
            ]
          },
          "metadata": {},
          "output_type": "display_data"
        },
        {
          "name": "stdout",
          "output_type": "stream",
          "text": [
            "Average training loss: 0.18308648894426677\n"
          ]
        },
        {
          "data": {
            "application/vnd.jupyter.widget-view+json": {
              "model_id": "004827c00b124c7295effa1a8984dfc2",
              "version_major": 2,
              "version_minor": 0
            },
            "text/plain": [
              "Evaluating:   0%|          | 0/54 [00:00<?, ?it/s]"
            ]
          },
          "metadata": {},
          "output_type": "display_data"
        },
        {
          "name": "stdout",
          "output_type": "stream",
          "text": [
            "Accuracy: 0.8177570093457944\n",
            "\n",
            "Classification Report:\n",
            "              precision    recall  f1-score   support\n",
            "\n",
            "    Negative     0.7727    0.6296    0.6939       216\n",
            "     Neutral     0.8240    0.7863    0.8047       131\n",
            "    Positive     0.8306    0.9057    0.8665       509\n",
            "\n",
            "    accuracy                         0.8178       856\n",
            "   macro avg     0.8091    0.7739    0.7884       856\n",
            "weighted avg     0.8150    0.8178    0.8135       856\n",
            "\n",
            "Remaining unlabeled data after iteration 3: 7528\n",
            "Iteration 4/14\n"
          ]
        },
        {
          "name": "stderr",
          "output_type": "stream",
          "text": [
            "<ipython-input-4-3b8bf05e255a>:73: SettingWithCopyWarning: \n",
            "A value is trying to be set on a copy of a slice from a DataFrame\n",
            "\n",
            "See the caveats in the documentation: https://pandas.pydata.org/pandas-docs/stable/user_guide/indexing.html#returning-a-view-versus-a-copy\n",
            "  df['post_comment_processed'].fillna(\"\", inplace=True)\n"
          ]
        },
        {
          "data": {
            "application/vnd.jupyter.widget-view+json": {
              "model_id": "d1b9077eb2a54a48ba0b378d966f4c45",
              "version_major": 2,
              "version_minor": 0
            },
            "text/plain": [
              "Pseudo-labeling:   0%|          | 0/471 [00:00<?, ?it/s]"
            ]
          },
          "metadata": {},
          "output_type": "display_data"
        },
        {
          "data": {
            "application/vnd.jupyter.widget-view+json": {
              "model_id": "cc15d270b14544d2b3d36c22214863eb",
              "version_major": 2,
              "version_minor": 0
            },
            "text/plain": [
              "Training:   0%|          | 0/423 [00:00<?, ?it/s]"
            ]
          },
          "metadata": {},
          "output_type": "display_data"
        },
        {
          "name": "stdout",
          "output_type": "stream",
          "text": [
            "Average training loss: 0.13180212533414082\n"
          ]
        },
        {
          "data": {
            "application/vnd.jupyter.widget-view+json": {
              "model_id": "63863839b74646929bc95d9a8d2694b6",
              "version_major": 2,
              "version_minor": 0
            },
            "text/plain": [
              "Evaluating:   0%|          | 0/54 [00:00<?, ?it/s]"
            ]
          },
          "metadata": {},
          "output_type": "display_data"
        },
        {
          "name": "stdout",
          "output_type": "stream",
          "text": [
            "Accuracy: 0.8212616822429907\n",
            "\n",
            "Classification Report:\n",
            "              precision    recall  f1-score   support\n",
            "\n",
            "    Negative     0.6933    0.7639    0.7269       216\n",
            "     Neutral     0.8443    0.7863    0.8142       131\n",
            "    Positive     0.8770    0.8546    0.8657       509\n",
            "\n",
            "    accuracy                         0.8213       856\n",
            "   macro avg     0.8049    0.8016    0.8023       856\n",
            "weighted avg     0.8256    0.8213    0.8228       856\n",
            "\n",
            "Remaining unlabeled data after iteration 4: 4652\n",
            "Iteration 5/14\n"
          ]
        },
        {
          "name": "stderr",
          "output_type": "stream",
          "text": [
            "<ipython-input-4-3b8bf05e255a>:73: SettingWithCopyWarning: \n",
            "A value is trying to be set on a copy of a slice from a DataFrame\n",
            "\n",
            "See the caveats in the documentation: https://pandas.pydata.org/pandas-docs/stable/user_guide/indexing.html#returning-a-view-versus-a-copy\n",
            "  df['post_comment_processed'].fillna(\"\", inplace=True)\n"
          ]
        },
        {
          "data": {
            "application/vnd.jupyter.widget-view+json": {
              "model_id": "64277520ab5547719c5c0df57a25072b",
              "version_major": 2,
              "version_minor": 0
            },
            "text/plain": [
              "Pseudo-labeling:   0%|          | 0/291 [00:00<?, ?it/s]"
            ]
          },
          "metadata": {},
          "output_type": "display_data"
        },
        {
          "data": {
            "application/vnd.jupyter.widget-view+json": {
              "model_id": "cfd4a30713af4916b57b82ff5f4413c2",
              "version_major": 2,
              "version_minor": 0
            },
            "text/plain": [
              "Training:   0%|          | 0/313 [00:00<?, ?it/s]"
            ]
          },
          "metadata": {},
          "output_type": "display_data"
        },
        {
          "name": "stdout",
          "output_type": "stream",
          "text": [
            "Average training loss: 0.14565802856643026\n"
          ]
        },
        {
          "data": {
            "application/vnd.jupyter.widget-view+json": {
              "model_id": "9b98216903904d2a94423b3154fa8e3e",
              "version_major": 2,
              "version_minor": 0
            },
            "text/plain": [
              "Evaluating:   0%|          | 0/54 [00:00<?, ?it/s]"
            ]
          },
          "metadata": {},
          "output_type": "display_data"
        },
        {
          "name": "stdout",
          "output_type": "stream",
          "text": [
            "Accuracy: 0.8200934579439252\n",
            "\n",
            "Classification Report:\n",
            "              precision    recall  f1-score   support\n",
            "\n",
            "    Negative     0.7609    0.6481    0.7000       216\n",
            "     Neutral     0.8547    0.7634    0.8065       131\n",
            "    Positive     0.8324    0.9077    0.8684       509\n",
            "\n",
            "    accuracy                         0.8201       856\n",
            "   macro avg     0.8160    0.7731    0.7916       856\n",
            "weighted avg     0.8178    0.8201    0.8164       856\n",
            "\n",
            "Remaining unlabeled data after iteration 5: 3613\n",
            "Iteration 6/14\n"
          ]
        },
        {
          "name": "stderr",
          "output_type": "stream",
          "text": [
            "<ipython-input-4-3b8bf05e255a>:73: SettingWithCopyWarning: \n",
            "A value is trying to be set on a copy of a slice from a DataFrame\n",
            "\n",
            "See the caveats in the documentation: https://pandas.pydata.org/pandas-docs/stable/user_guide/indexing.html#returning-a-view-versus-a-copy\n",
            "  df['post_comment_processed'].fillna(\"\", inplace=True)\n"
          ]
        },
        {
          "data": {
            "application/vnd.jupyter.widget-view+json": {
              "model_id": "e66d045ecae64ca097ee3689e6db845d",
              "version_major": 2,
              "version_minor": 0
            },
            "text/plain": [
              "Pseudo-labeling:   0%|          | 0/226 [00:00<?, ?it/s]"
            ]
          },
          "metadata": {},
          "output_type": "display_data"
        },
        {
          "data": {
            "application/vnd.jupyter.widget-view+json": {
              "model_id": "9d441ad79865482b96ec586830ca2458",
              "version_major": 2,
              "version_minor": 0
            },
            "text/plain": [
              "Training:   0%|          | 0/340 [00:00<?, ?it/s]"
            ]
          },
          "metadata": {},
          "output_type": "display_data"
        },
        {
          "name": "stdout",
          "output_type": "stream",
          "text": [
            "Average training loss: 0.12210084649337018\n"
          ]
        },
        {
          "data": {
            "application/vnd.jupyter.widget-view+json": {
              "model_id": "e28230fbd6254eee84d56973e5a9a9c8",
              "version_major": 2,
              "version_minor": 0
            },
            "text/plain": [
              "Evaluating:   0%|          | 0/54 [00:00<?, ?it/s]"
            ]
          },
          "metadata": {},
          "output_type": "display_data"
        },
        {
          "name": "stdout",
          "output_type": "stream",
          "text": [
            "Accuracy: 0.8084112149532711\n",
            "\n",
            "Classification Report:\n",
            "              precision    recall  f1-score   support\n",
            "\n",
            "    Negative     0.6737    0.7361    0.7035       216\n",
            "     Neutral     0.9091    0.6107    0.7306       131\n",
            "    Positive     0.8515    0.8900    0.8703       509\n",
            "\n",
            "    accuracy                         0.8084       856\n",
            "   macro avg     0.8114    0.7456    0.7682       856\n",
            "weighted avg     0.8155    0.8084    0.8069       856\n",
            "\n",
            "Remaining unlabeled data after iteration 6: 2272\n",
            "Iteration 7/14\n"
          ]
        },
        {
          "name": "stderr",
          "output_type": "stream",
          "text": [
            "<ipython-input-4-3b8bf05e255a>:73: SettingWithCopyWarning: \n",
            "A value is trying to be set on a copy of a slice from a DataFrame\n",
            "\n",
            "See the caveats in the documentation: https://pandas.pydata.org/pandas-docs/stable/user_guide/indexing.html#returning-a-view-versus-a-copy\n",
            "  df['post_comment_processed'].fillna(\"\", inplace=True)\n"
          ]
        },
        {
          "data": {
            "application/vnd.jupyter.widget-view+json": {
              "model_id": "77e649cb91b646669a8f350b9b9da495",
              "version_major": 2,
              "version_minor": 0
            },
            "text/plain": [
              "Pseudo-labeling:   0%|          | 0/142 [00:00<?, ?it/s]"
            ]
          },
          "metadata": {},
          "output_type": "display_data"
        },
        {
          "data": {
            "application/vnd.jupyter.widget-view+json": {
              "model_id": "b867b6674c074df5b371f46d1c68add2",
              "version_major": 2,
              "version_minor": 0
            },
            "text/plain": [
              "Training:   0%|          | 0/310 [00:00<?, ?it/s]"
            ]
          },
          "metadata": {},
          "output_type": "display_data"
        },
        {
          "name": "stdout",
          "output_type": "stream",
          "text": [
            "Average training loss: 0.13373805135563616\n"
          ]
        },
        {
          "data": {
            "application/vnd.jupyter.widget-view+json": {
              "model_id": "078b507fef8d423ca9acd6752cc36b19",
              "version_major": 2,
              "version_minor": 0
            },
            "text/plain": [
              "Evaluating:   0%|          | 0/54 [00:00<?, ?it/s]"
            ]
          },
          "metadata": {},
          "output_type": "display_data"
        },
        {
          "name": "stdout",
          "output_type": "stream",
          "text": [
            "Accuracy: 0.8200934579439252\n",
            "\n",
            "Classification Report:\n",
            "              precision    recall  f1-score   support\n",
            "\n",
            "    Negative     0.7177    0.6944    0.7059       216\n",
            "     Neutral     0.8785    0.7176    0.7899       131\n",
            "    Positive     0.8481    0.8998    0.8732       509\n",
            "\n",
            "    accuracy                         0.8201       856\n",
            "   macro avg     0.8148    0.7706    0.7897       856\n",
            "weighted avg     0.8199    0.8201    0.8182       856\n",
            "\n",
            "Remaining unlabeled data after iteration 7: 1466\n",
            "Iteration 8/14\n"
          ]
        },
        {
          "name": "stderr",
          "output_type": "stream",
          "text": [
            "<ipython-input-4-3b8bf05e255a>:73: SettingWithCopyWarning: \n",
            "A value is trying to be set on a copy of a slice from a DataFrame\n",
            "\n",
            "See the caveats in the documentation: https://pandas.pydata.org/pandas-docs/stable/user_guide/indexing.html#returning-a-view-versus-a-copy\n",
            "  df['post_comment_processed'].fillna(\"\", inplace=True)\n"
          ]
        },
        {
          "data": {
            "application/vnd.jupyter.widget-view+json": {
              "model_id": "21785fab40d24a32931f8c34d9902d4f",
              "version_major": 2,
              "version_minor": 0
            },
            "text/plain": [
              "Pseudo-labeling:   0%|          | 0/92 [00:00<?, ?it/s]"
            ]
          },
          "metadata": {},
          "output_type": "display_data"
        },
        {
          "data": {
            "application/vnd.jupyter.widget-view+json": {
              "model_id": "6f7df868d9964d9f8ebb98cae8de18af",
              "version_major": 2,
              "version_minor": 0
            },
            "text/plain": [
              "Training:   0%|          | 0/266 [00:00<?, ?it/s]"
            ]
          },
          "metadata": {},
          "output_type": "display_data"
        },
        {
          "name": "stdout",
          "output_type": "stream",
          "text": [
            "Average training loss: 0.05907442762745768\n"
          ]
        },
        {
          "data": {
            "application/vnd.jupyter.widget-view+json": {
              "model_id": "e395dd0640074fb6bca4274cbc56bc40",
              "version_major": 2,
              "version_minor": 0
            },
            "text/plain": [
              "Evaluating:   0%|          | 0/54 [00:00<?, ?it/s]"
            ]
          },
          "metadata": {},
          "output_type": "display_data"
        },
        {
          "name": "stdout",
          "output_type": "stream",
          "text": [
            "Accuracy: 0.7978971962616822\n",
            "\n",
            "Classification Report:\n",
            "              precision    recall  f1-score   support\n",
            "\n",
            "    Negative     0.6237    0.8287    0.7117       216\n",
            "     Neutral     0.8509    0.7405    0.7918       131\n",
            "    Positive     0.8945    0.7996    0.8444       509\n",
            "\n",
            "    accuracy                         0.7979       856\n",
            "   macro avg     0.7897    0.7896    0.7827       856\n",
            "weighted avg     0.8195    0.7979    0.8029       856\n",
            "\n",
            "Remaining unlabeled data after iteration 8: 1352\n",
            "Iteration 9/14\n"
          ]
        },
        {
          "name": "stderr",
          "output_type": "stream",
          "text": [
            "<ipython-input-4-3b8bf05e255a>:73: SettingWithCopyWarning: \n",
            "A value is trying to be set on a copy of a slice from a DataFrame\n",
            "\n",
            "See the caveats in the documentation: https://pandas.pydata.org/pandas-docs/stable/user_guide/indexing.html#returning-a-view-versus-a-copy\n",
            "  df['post_comment_processed'].fillna(\"\", inplace=True)\n"
          ]
        },
        {
          "data": {
            "application/vnd.jupyter.widget-view+json": {
              "model_id": "a3efe89b37e94cd2bdbde11c2013b3ea",
              "version_major": 2,
              "version_minor": 0
            },
            "text/plain": [
              "Pseudo-labeling:   0%|          | 0/85 [00:00<?, ?it/s]"
            ]
          },
          "metadata": {},
          "output_type": "display_data"
        },
        {
          "data": {
            "application/vnd.jupyter.widget-view+json": {
              "model_id": "5cc21c8bbfc84e16a527a3d2a6469902",
              "version_major": 2,
              "version_minor": 0
            },
            "text/plain": [
              "Training:   0%|          | 0/283 [00:00<?, ?it/s]"
            ]
          },
          "metadata": {},
          "output_type": "display_data"
        },
        {
          "name": "stdout",
          "output_type": "stream",
          "text": [
            "Average training loss: 0.10087913122643509\n"
          ]
        },
        {
          "data": {
            "application/vnd.jupyter.widget-view+json": {
              "model_id": "8b68794d89b44bc385bf3de604ce0291",
              "version_major": 2,
              "version_minor": 0
            },
            "text/plain": [
              "Evaluating:   0%|          | 0/54 [00:00<?, ?it/s]"
            ]
          },
          "metadata": {},
          "output_type": "display_data"
        },
        {
          "name": "stdout",
          "output_type": "stream",
          "text": [
            "Accuracy: 0.7955607476635514\n",
            "\n",
            "Classification Report:\n",
            "              precision    recall  f1-score   support\n",
            "\n",
            "    Negative     0.6122    0.8333    0.7059       216\n",
            "     Neutral     0.8913    0.6260    0.7354       131\n",
            "    Positive     0.8915    0.8232    0.8560       509\n",
            "\n",
            "    accuracy                         0.7956       856\n",
            "   macro avg     0.7983    0.7608    0.7658       856\n",
            "weighted avg     0.8210    0.7956    0.7997       856\n",
            "\n",
            "Remaining unlabeled data after iteration 9: 982\n",
            "Iteration 10/14\n"
          ]
        },
        {
          "name": "stderr",
          "output_type": "stream",
          "text": [
            "<ipython-input-4-3b8bf05e255a>:73: SettingWithCopyWarning: \n",
            "A value is trying to be set on a copy of a slice from a DataFrame\n",
            "\n",
            "See the caveats in the documentation: https://pandas.pydata.org/pandas-docs/stable/user_guide/indexing.html#returning-a-view-versus-a-copy\n",
            "  df['post_comment_processed'].fillna(\"\", inplace=True)\n"
          ]
        },
        {
          "data": {
            "application/vnd.jupyter.widget-view+json": {
              "model_id": "4fef53dc321344ae97d4f120fecc289b",
              "version_major": 2,
              "version_minor": 0
            },
            "text/plain": [
              "Pseudo-labeling:   0%|          | 0/62 [00:00<?, ?it/s]"
            ]
          },
          "metadata": {},
          "output_type": "display_data"
        },
        {
          "data": {
            "application/vnd.jupyter.widget-view+json": {
              "model_id": "1ac0ddd7533d485d98e13d3803c34ae9",
              "version_major": 2,
              "version_minor": 0
            },
            "text/plain": [
              "Training:   0%|          | 0/264 [00:00<?, ?it/s]"
            ]
          },
          "metadata": {},
          "output_type": "display_data"
        },
        {
          "name": "stdout",
          "output_type": "stream",
          "text": [
            "Average training loss: 0.04667504235906315\n"
          ]
        },
        {
          "data": {
            "application/vnd.jupyter.widget-view+json": {
              "model_id": "b0dfa3d0b4a94d6ba16db1fb61d76719",
              "version_major": 2,
              "version_minor": 0
            },
            "text/plain": [
              "Evaluating:   0%|          | 0/54 [00:00<?, ?it/s]"
            ]
          },
          "metadata": {},
          "output_type": "display_data"
        },
        {
          "name": "stdout",
          "output_type": "stream",
          "text": [
            "Accuracy: 0.8119158878504673\n",
            "\n",
            "Classification Report:\n",
            "              precision    recall  f1-score   support\n",
            "\n",
            "    Negative     0.6721    0.7593    0.7130       216\n",
            "     Neutral     0.8421    0.7328    0.7837       131\n",
            "    Positive     0.8735    0.8546    0.8640       509\n",
            "\n",
            "    accuracy                         0.8119       856\n",
            "   macro avg     0.7959    0.7822    0.7869       856\n",
            "weighted avg     0.8179    0.8119    0.8136       856\n",
            "\n",
            "Remaining unlabeled data after iteration 10: 912\n",
            "Iteration 11/14\n"
          ]
        },
        {
          "name": "stderr",
          "output_type": "stream",
          "text": [
            "<ipython-input-4-3b8bf05e255a>:73: SettingWithCopyWarning: \n",
            "A value is trying to be set on a copy of a slice from a DataFrame\n",
            "\n",
            "See the caveats in the documentation: https://pandas.pydata.org/pandas-docs/stable/user_guide/indexing.html#returning-a-view-versus-a-copy\n",
            "  df['post_comment_processed'].fillna(\"\", inplace=True)\n"
          ]
        },
        {
          "data": {
            "application/vnd.jupyter.widget-view+json": {
              "model_id": "058cfd88a77042708323b62f17071b9c",
              "version_major": 2,
              "version_minor": 0
            },
            "text/plain": [
              "Pseudo-labeling:   0%|          | 0/57 [00:00<?, ?it/s]"
            ]
          },
          "metadata": {},
          "output_type": "display_data"
        },
        {
          "data": {
            "application/vnd.jupyter.widget-view+json": {
              "model_id": "96a039c3ae28490aba3e3c161af7388c",
              "version_major": 2,
              "version_minor": 0
            },
            "text/plain": [
              "Training:   0%|          | 0/263 [00:00<?, ?it/s]"
            ]
          },
          "metadata": {},
          "output_type": "display_data"
        },
        {
          "name": "stdout",
          "output_type": "stream",
          "text": [
            "Average training loss: 0.027435472787945697\n"
          ]
        },
        {
          "data": {
            "application/vnd.jupyter.widget-view+json": {
              "model_id": "3e4d52d430cd472d86fb9453c4779bf2",
              "version_major": 2,
              "version_minor": 0
            },
            "text/plain": [
              "Evaluating:   0%|          | 0/54 [00:00<?, ?it/s]"
            ]
          },
          "metadata": {},
          "output_type": "display_data"
        },
        {
          "name": "stdout",
          "output_type": "stream",
          "text": [
            "Accuracy: 0.794392523364486\n",
            "\n",
            "Classification Report:\n",
            "              precision    recall  f1-score   support\n",
            "\n",
            "    Negative     0.6138    0.8241    0.7036       216\n",
            "     Neutral     0.8750    0.6947    0.7745       131\n",
            "    Positive     0.8896    0.8075    0.8465       509\n",
            "\n",
            "    accuracy                         0.7944       856\n",
            "   macro avg     0.7928    0.7754    0.7749       856\n",
            "weighted avg     0.8178    0.7944    0.7994       856\n",
            "\n",
            "Remaining unlabeled data after iteration 11: 885\n",
            "Iteration 12/14\n"
          ]
        },
        {
          "name": "stderr",
          "output_type": "stream",
          "text": [
            "<ipython-input-4-3b8bf05e255a>:73: SettingWithCopyWarning: \n",
            "A value is trying to be set on a copy of a slice from a DataFrame\n",
            "\n",
            "See the caveats in the documentation: https://pandas.pydata.org/pandas-docs/stable/user_guide/indexing.html#returning-a-view-versus-a-copy\n",
            "  df['post_comment_processed'].fillna(\"\", inplace=True)\n"
          ]
        },
        {
          "data": {
            "application/vnd.jupyter.widget-view+json": {
              "model_id": "404999c7d42546fbbf983834284d51b2",
              "version_major": 2,
              "version_minor": 0
            },
            "text/plain": [
              "Pseudo-labeling:   0%|          | 0/56 [00:00<?, ?it/s]"
            ]
          },
          "metadata": {},
          "output_type": "display_data"
        },
        {
          "data": {
            "application/vnd.jupyter.widget-view+json": {
              "model_id": "c82cdc4781194a58b1abef8b49ad515e",
              "version_major": 2,
              "version_minor": 0
            },
            "text/plain": [
              "Training:   0%|          | 0/264 [00:00<?, ?it/s]"
            ]
          },
          "metadata": {},
          "output_type": "display_data"
        },
        {
          "name": "stdout",
          "output_type": "stream",
          "text": [
            "Average training loss: 0.04725262717626968\n"
          ]
        },
        {
          "data": {
            "application/vnd.jupyter.widget-view+json": {
              "model_id": "a6c8887c51124d42854756d833ec8c4a",
              "version_major": 2,
              "version_minor": 0
            },
            "text/plain": [
              "Evaluating:   0%|          | 0/54 [00:00<?, ?it/s]"
            ]
          },
          "metadata": {},
          "output_type": "display_data"
        },
        {
          "name": "stdout",
          "output_type": "stream",
          "text": [
            "Accuracy: 0.8177570093457944\n",
            "\n",
            "Classification Report:\n",
            "              precision    recall  f1-score   support\n",
            "\n",
            "    Negative     0.6833    0.7593    0.7193       216\n",
            "     Neutral     0.8571    0.7328    0.7901       131\n",
            "    Positive     0.8730    0.8644    0.8687       509\n",
            "\n",
            "    accuracy                         0.8178       856\n",
            "   macro avg     0.8045    0.7855    0.7927       856\n",
            "weighted avg     0.8227    0.8178    0.8190       856\n",
            "\n",
            "Remaining unlabeled data after iteration 12: 842\n",
            "Iteration 13/14\n"
          ]
        },
        {
          "name": "stderr",
          "output_type": "stream",
          "text": [
            "<ipython-input-4-3b8bf05e255a>:73: SettingWithCopyWarning: \n",
            "A value is trying to be set on a copy of a slice from a DataFrame\n",
            "\n",
            "See the caveats in the documentation: https://pandas.pydata.org/pandas-docs/stable/user_guide/indexing.html#returning-a-view-versus-a-copy\n",
            "  df['post_comment_processed'].fillna(\"\", inplace=True)\n"
          ]
        },
        {
          "data": {
            "application/vnd.jupyter.widget-view+json": {
              "model_id": "69b9cd4cbb0d432dbb2e16f049a3eb0e",
              "version_major": 2,
              "version_minor": 0
            },
            "text/plain": [
              "Pseudo-labeling:   0%|          | 0/53 [00:00<?, ?it/s]"
            ]
          },
          "metadata": {},
          "output_type": "display_data"
        },
        {
          "data": {
            "application/vnd.jupyter.widget-view+json": {
              "model_id": "b7dba79aa79c4743b2b8dce145c92112",
              "version_major": 2,
              "version_minor": 0
            },
            "text/plain": [
              "Training:   0%|          | 0/265 [00:00<?, ?it/s]"
            ]
          },
          "metadata": {},
          "output_type": "display_data"
        },
        {
          "name": "stdout",
          "output_type": "stream",
          "text": [
            "Average training loss: 0.03954290184785419\n"
          ]
        },
        {
          "data": {
            "application/vnd.jupyter.widget-view+json": {
              "model_id": "ad07fc7b9afb4bc791f662cb5445b250",
              "version_major": 2,
              "version_minor": 0
            },
            "text/plain": [
              "Evaluating:   0%|          | 0/54 [00:00<?, ?it/s]"
            ]
          },
          "metadata": {},
          "output_type": "display_data"
        },
        {
          "name": "stdout",
          "output_type": "stream",
          "text": [
            "Accuracy: 0.8212616822429907\n",
            "\n",
            "Classification Report:\n",
            "              precision    recall  f1-score   support\n",
            "\n",
            "    Negative     0.6757    0.8102    0.7368       216\n",
            "     Neutral     0.8899    0.7405    0.8083       131\n",
            "    Positive     0.8832    0.8468    0.8646       509\n",
            "\n",
            "    accuracy                         0.8213       856\n",
            "   macro avg     0.8163    0.7991    0.8033       856\n",
            "weighted avg     0.8319    0.8213    0.8237       856\n",
            "\n",
            "Remaining unlabeled data after iteration 13: 798\n",
            "Iteration 14/14\n"
          ]
        },
        {
          "name": "stderr",
          "output_type": "stream",
          "text": [
            "<ipython-input-4-3b8bf05e255a>:73: SettingWithCopyWarning: \n",
            "A value is trying to be set on a copy of a slice from a DataFrame\n",
            "\n",
            "See the caveats in the documentation: https://pandas.pydata.org/pandas-docs/stable/user_guide/indexing.html#returning-a-view-versus-a-copy\n",
            "  df['post_comment_processed'].fillna(\"\", inplace=True)\n"
          ]
        },
        {
          "data": {
            "application/vnd.jupyter.widget-view+json": {
              "model_id": "c2348dea96c34da3b8273ffd1dbb5c4f",
              "version_major": 2,
              "version_minor": 0
            },
            "text/plain": [
              "Pseudo-labeling:   0%|          | 0/50 [00:00<?, ?it/s]"
            ]
          },
          "metadata": {},
          "output_type": "display_data"
        },
        {
          "data": {
            "application/vnd.jupyter.widget-view+json": {
              "model_id": "2ff6e26a2da04410bf9f0f786a93b9e0",
              "version_major": 2,
              "version_minor": 0
            },
            "text/plain": [
              "Training:   0%|          | 0/263 [00:00<?, ?it/s]"
            ]
          },
          "metadata": {},
          "output_type": "display_data"
        },
        {
          "name": "stdout",
          "output_type": "stream",
          "text": [
            "Average training loss: 0.026551761499012044\n"
          ]
        },
        {
          "data": {
            "application/vnd.jupyter.widget-view+json": {
              "model_id": "e089e4069ab948e6a315b3092c9093e8",
              "version_major": 2,
              "version_minor": 0
            },
            "text/plain": [
              "Evaluating:   0%|          | 0/54 [00:00<?, ?it/s]"
            ]
          },
          "metadata": {},
          "output_type": "display_data"
        },
        {
          "name": "stdout",
          "output_type": "stream",
          "text": [
            "Accuracy: 0.8084112149532711\n",
            "\n",
            "Classification Report:\n",
            "              precision    recall  f1-score   support\n",
            "\n",
            "    Negative     0.7530    0.5787    0.6545       216\n",
            "     Neutral     0.8932    0.7023    0.7863       131\n",
            "    Positive     0.8092    0.9332    0.8668       509\n",
            "\n",
            "    accuracy                         0.8084       856\n",
            "   macro avg     0.8185    0.7381    0.7692       856\n",
            "weighted avg     0.8079    0.8084    0.8009       856\n",
            "\n",
            "Remaining unlabeled data after iteration 14: 787\n",
            "Semi-Supervised Learning completed.\n"
          ]
        }
      ],
      "source": [
        "# Initialize the BERT model and tokenizer for sequence classification\n",
        "tokenizer_bert = BertTokenizer.from_pretrained('bert-base-uncased')\n",
        "model_bert = BertForSequenceClassification.from_pretrained(\n",
        "    'bert-base-uncased',\n",
        "    num_labels=3,  # Three sentiment classes: negative, neutral, positive\n",
        "    output_attentions=False,\n",
        "    output_hidden_states=False,\n",
        ").to(device)\n",
        "\n",
        "\n",
        "# Set up the optimizer with recommended settings\n",
        "optimizer = AdamW(model_bert.parameters(), lr=5e-5, eps=1e-8)\n",
        "epochs = 4  # Define the total number of training epochs\n",
        "\n",
        "# Split initial labeling data for training and validation\n",
        "df_train_initial, df_validation_initial = train_test_split(df_initial_labeling_subjective, test_size=0.2, random_state=42)\n",
        "\n",
        "# Prepare dataloaders for initial training, validation, and evaluation\n",
        "train_dataloader = prepare_dataloader(df_train_initial, tokenizer_bert, batch_size=16, max_length=128)\n",
        "validation_dataloader = prepare_dataloader(df_validation_initial, tokenizer_bert, batch_size=16, max_length=128)\n",
        "evaluation_dataloader = prepare_dataloader(df_evaluation_subjective, tokenizer_bert, batch_size=16, max_length=128)\n",
        "\n",
        "# Initialize dataset for semi-supervised learning iterations\n",
        "df_semi_supervised_current = df_semi_supervised_subjective.copy()\n",
        "\n",
        "# Define dynamic threshold for pseudo-label generation\n",
        "threshold = 0.95  # Initial threshold for pseudo-labeling\n",
        "# threshold_updates = {5: 0.9, 9: 0.85, 12: 0.82}  # Update thresholds based on iteration\n",
        "threshold_updates = {6: 0.9, 10: 0.88, 12: 0.85}\n",
        "\n",
        "# Semi-supervised learning loop\n",
        "ssl_iterations = 14  # Set the total number of iterations for semi-supervised learning\n",
        "for iteration in range(ssl_iterations):\n",
        "    print(f\"Iteration {iteration + 1}/{ssl_iterations}\")\n",
        "\n",
        "    # Adjust the threshold dynamically per iteration\n",
        "    if iteration in threshold_updates:\n",
        "        threshold = threshold_updates[iteration]\n",
        "\n",
        "    # Prepare DataLoader for semi-supervised learning with the current dataset\n",
        "    semi_supervised_data_loader = prepare_dataloader(df_semi_supervised_current, tokenizer_bert, batch_size=16, max_length=128)\n",
        "\n",
        "    # Generate pseudo-labels and combine with the initial training data\n",
        "    if iteration > 0:\n",
        "        df_pseudo_labels = generate_pseudo_labels(model_bert, semi_supervised_data_loader, tokenizer_bert, device, threshold)\n",
        "        combined_df = pd.concat([df_train_initial, df_pseudo_labels])  # Combine for retraining\n",
        "        train_dataloader = prepare_dataloader(combined_df, tokenizer_bert, batch_size=16, max_length=128)\n",
        "\n",
        "    # Recalculate the total steps for the learning rate scheduler\n",
        "    total_steps = len(train_dataloader) * epochs\n",
        "    scheduler = get_linear_schedule_with_warmup(optimizer, num_warmup_steps=0, num_training_steps=total_steps)\n",
        "\n",
        "    # Train and evaluate the model with the updated dataloader\n",
        "    train_model(model_bert, train_dataloader, optimizer)\n",
        "    evaluate_model(model_bert, validation_dataloader)\n",
        "\n",
        "    # Update the dataset for the next iteration\n",
        "    if iteration > 0:\n",
        "        df_semi_supervised_current = update_semi_supervised_dataset(df_semi_supervised_current, df_pseudo_labels)\n",
        "\n",
        "    # Print the remaining number of unlabeled datasets\n",
        "    print(f\"Remaining unlabeled data after iteration {iteration + 1}: {len(df_semi_supervised_current)}\")\n",
        "\n",
        "print(\"Semi-Supervised Learning completed.\")"
      ]
    },
    {
      "cell_type": "code",
      "execution_count": null,
      "metadata": {
        "colab": {
          "background_save": true,
          "referenced_widgets": [
            "4b1843140d71498f8173c87dab524f75"
          ]
        },
        "id": "61beHpgU8GOk",
        "outputId": "8184e0d6-e15c-4670-ac1c-3ebf95f2ae2a"
      },
      "outputs": [
        {
          "name": "stdout",
          "output_type": "stream",
          "text": [
            "\n",
            "Final Evaluation on Test Set:\n"
          ]
        },
        {
          "data": {
            "application/vnd.jupyter.widget-view+json": {
              "model_id": "4b1843140d71498f8173c87dab524f75",
              "version_major": 2,
              "version_minor": 0
            },
            "text/plain": [
              "Evaluating:   0%|          | 0/99 [00:00<?, ?it/s]"
            ]
          },
          "metadata": {},
          "output_type": "display_data"
        },
        {
          "name": "stdout",
          "output_type": "stream",
          "text": [
            "Accuracy: 0.797979797979798\n",
            "\n",
            "Classification Report:\n",
            "              precision    recall  f1-score   support\n",
            "\n",
            "    Negative     0.7439    0.5966    0.6621       409\n",
            "     Neutral     0.8367    0.6457    0.7289       254\n",
            "    Positive     0.8075    0.9294    0.8642       921\n",
            "\n",
            "    accuracy                         0.7980      1584\n",
            "   macro avg     0.7961    0.7239    0.7517      1584\n",
            "weighted avg     0.7958    0.7980    0.7903      1584\n",
            "\n"
          ]
        },
        {
          "data": {
            "image/png": "[encoded data removed]",
            "text/plain": [
              "<Figure size 1000x700 with 2 Axes>"
            ]
          },
          "metadata": {},
          "output_type": "display_data"
        }
      ],
      "source": [
        "# Conduct final evaluation on the unseen test dataset\n",
        "print(\"\\nFinal Evaluation on Test Set:\")\n",
        "cm, report = evaluate_model(model_bert, evaluation_dataloader)\n",
        "\n",
        "# Define class names for the confusion matrix\n",
        "class_names = ['Negative', 'Neutral', 'Positive']\n",
        "\n",
        "# Plotting the confusion matrix\n",
        "plt.figure(figsize=(10, 7))\n",
        "sns.heatmap(cm, annot=True, fmt='g', cmap='Blues', xticklabels=class_names, yticklabels=class_names)\n",
        "plt.xlabel('Predicted labels')  # Label for the x-axis\n",
        "plt.ylabel('True labels')  # Label for the y-axis\n",
        "plt.title('Confusion Matrix')  # Title of the plot\n",
        "plt.show()  # Display the plot"
      ]
    },
    {
      "cell_type": "code",
      "execution_count": null,
      "metadata": {
        "colab": {
          "background_save": true
        },
        "id": "9M1rYKqGUURg",
        "outputId": "39d1ce21-884e-4c03-8c39-6639f6fdfb8b"
      },
      "outputs": [
        {
          "name": "stdout",
          "output_type": "stream",
          "text": [
            "Random Accuracy: 0.3580\n"
          ]
        }
      ],
      "source": [
        "import numpy as np\n",
        "from sklearn.metrics import accuracy_score\n",
        "from sklearn.preprocessing import LabelEncoder\n",
        "\n",
        "# Convert categorical labels to integers\n",
        "label_encoder = LabelEncoder()\n",
        "true_labels_encoded = label_encoder.fit_transform(df_evaluation_subjective['sentiment'].values)\n",
        "\n",
        "# Generate random predictions\n",
        "num_classes = 3  # Negative, Neutral, Positive\n",
        "random_preds = np.random.randint(0, num_classes, size=len(true_labels_encoded))\n",
        "\n",
        "# Calculate random accuracy\n",
        "random_accuracy = accuracy_score(true_labels_encoded, random_preds)\n",
        "print(f\"Random Accuracy: {random_accuracy:.4f}\")"
      ]
    },
    {
      "cell_type": "code",
      "execution_count": null,
      "metadata": {
        "id": "aOldEF28boux"
      },
      "outputs": [],
      "source": [
        "# For Prof -> since we already saved the model weights, dont have to resave if you are testing this code \n",
        "\n",
        "# Save the model's state dictionary\n",
        "# bert_model_save_path = \"/content/drive/My Drive/IR Classification/Models/bert_model_state.bin\"\n",
        "# torch.save(model_bert.state_dict(), bert_model_save_path)"
      ]
    }
  ],
  "metadata": {
    "accelerator": "GPU",
    "colab": {
      "gpuType": "V100",
      "machine_shape": "hm",
      "provenance": []
    },
    "kernelspec": {
      "display_name": "Python 3",
      "name": "python3"
    },
    "language_info": {
      "name": "python"
    },
    "widgets": {
      "application/vnd.jupyter.widget-state+json": {
        "01e1ec54c58241b1a6dca810e1914a19": {
          "model_module": "@jupyter-widgets/controls",
          "model_module_version": "1.5.0",
          "model_name": "FloatProgressModel",
          "state": {
            "_dom_classes": [],
            "_model_module": "@jupyter-widgets/controls",
            "_model_module_version": "1.5.0",
            "_model_name": "FloatProgressModel",
            "_view_count": null,
            "_view_module": "@jupyter-widgets/controls",
            "_view_module_version": "1.5.0",
            "_view_name": "ProgressView",
            "bar_style": "success",
            "description": "",
            "description_tooltip": null,
            "layout": "IPY_MODEL_14b8be09edf94bc79d9b76505a9e5dc4",
            "max": 214,
            "min": 0,
            "orientation": "horizontal",
            "style": "IPY_MODEL_a28aa085b4744eeb813ae8575013dab1",
            "value": 214
          }
        },
        "02735360e5d84b26bc2caf867e31acf5": {
          "model_module": "@jupyter-widgets/controls",
          "model_module_version": "1.5.0",
          "model_name": "FloatProgressModel",
          "state": {
            "_dom_classes": [],
            "_model_module": "@jupyter-widgets/controls",
            "_model_module_version": "1.5.0",
            "_model_name": "FloatProgressModel",
            "_view_count": null,
            "_view_module": "@jupyter-widgets/controls",
            "_view_module_version": "1.5.0",
            "_view_name": "ProgressView",
            "bar_style": "success",
            "description": "",
            "description_tooltip": null,
            "layout": "IPY_MODEL_d39b8a759e1d419a8bba077b86eec07d",
            "max": 622,
            "min": 0,
            "orientation": "horizontal",
            "style": "IPY_MODEL_ed3759d5303b46d8b42ee9f7d6b755cf",
            "value": 622
          }
        },
        "02b2420dcf594869912175ad842a1f1d": {
          "model_module": "@jupyter-widgets/controls",
          "model_module_version": "1.5.0",
          "model_name": "HBoxModel",
          "state": {
            "_dom_classes": [],
            "_model_module": "@jupyter-widgets/controls",
            "_model_module_version": "1.5.0",
            "_model_name": "HBoxModel",
            "_view_count": null,
            "_view_module": "@jupyter-widgets/controls",
            "_view_module_version": "1.5.0",
            "_view_name": "HBoxView",
            "box_style": "",
            "children": [
              "IPY_MODEL_7c1207b443864896a0363df8950a47dd",
              "IPY_MODEL_abfe8b5a8804462b87be78ae420c5165",
              "IPY_MODEL_71fad0f5862a4f7eb0861d29235a7c3d"
            ],
            "layout": "IPY_MODEL_a799daff980f49e9943ca9521ae7facb"
          }
        },
        "0321c83141eb409f98b740c15d16373b": {
          "model_module": "@jupyter-widgets/base",
          "model_module_version": "1.2.0",
          "model_name": "LayoutModel",
          "state": {
            "_model_module": "@jupyter-widgets/base",
            "_model_module_version": "1.2.0",
            "_model_name": "LayoutModel",
            "_view_count": null,
            "_view_module": "@jupyter-widgets/base",
            "_view_module_version": "1.2.0",
            "_view_name": "LayoutView",
            "align_content": null,
            "align_items": null,
            "align_self": null,
            "border": null,
            "bottom": null,
            "display": null,
            "flex": null,
            "flex_flow": null,
            "grid_area": null,
            "grid_auto_columns": null,
            "grid_auto_flow": null,
            "grid_auto_rows": null,
            "grid_column": null,
            "grid_gap": null,
            "grid_row": null,
            "grid_template_areas": null,
            "grid_template_columns": null,
            "grid_template_rows": null,
            "height": null,
            "justify_content": null,
            "justify_items": null,
            "left": null,
            "margin": null,
            "max_height": null,
            "max_width": null,
            "min_height": null,
            "min_width": null,
            "object_fit": null,
            "object_position": null,
            "order": null,
            "overflow": null,
            "overflow_x": null,
            "overflow_y": null,
            "padding": null,
            "right": null,
            "top": null,
            "visibility": null,
            "width": null
          }
        },
        "0fc35e1929cb4511948a83e24a0e8655": {
          "model_module": "@jupyter-widgets/base",
          "model_module_version": "1.2.0",
          "model_name": "LayoutModel",
          "state": {
            "_model_module": "@jupyter-widgets/base",
            "_model_module_version": "1.2.0",
            "_model_name": "LayoutModel",
            "_view_count": null,
            "_view_module": "@jupyter-widgets/base",
            "_view_module_version": "1.2.0",
            "_view_name": "LayoutView",
            "align_content": null,
            "align_items": null,
            "align_self": null,
            "border": null,
            "bottom": null,
            "display": null,
            "flex": null,
            "flex_flow": null,
            "grid_area": null,
            "grid_auto_columns": null,
            "grid_auto_flow": null,
            "grid_auto_rows": null,
            "grid_column": null,
            "grid_gap": null,
            "grid_row": null,
            "grid_template_areas": null,
            "grid_template_columns": null,
            "grid_template_rows": null,
            "height": null,
            "justify_content": null,
            "justify_items": null,
            "left": null,
            "margin": null,
            "max_height": null,
            "max_width": null,
            "min_height": null,
            "min_width": null,
            "object_fit": null,
            "object_position": null,
            "order": null,
            "overflow": null,
            "overflow_x": null,
            "overflow_y": null,
            "padding": null,
            "right": null,
            "top": null,
            "visibility": null,
            "width": null
          }
        },
        "124157f800154a57ae61581ea2b8cbd5": {
          "model_module": "@jupyter-widgets/controls",
          "model_module_version": "1.5.0",
          "model_name": "FloatProgressModel",
          "state": {
            "_dom_classes": [],
            "_model_module": "@jupyter-widgets/controls",
            "_model_module_version": "1.5.0",
            "_model_name": "FloatProgressModel",
            "_view_count": null,
            "_view_module": "@jupyter-widgets/controls",
            "_view_module_version": "1.5.0",
            "_view_name": "ProgressView",
            "bar_style": "success",
            "description": "",
            "description_tooltip": null,
            "layout": "IPY_MODEL_ae95bc6f78174a6cb2e3490d051bda6d",
            "max": 54,
            "min": 0,
            "orientation": "horizontal",
            "style": "IPY_MODEL_3adcb52e88374a86b6efc736ad1f93ca",
            "value": 54
          }
        },
        "14b8be09edf94bc79d9b76505a9e5dc4": {
          "model_module": "@jupyter-widgets/base",
          "model_module_version": "1.2.0",
          "model_name": "LayoutModel",
          "state": {
            "_model_module": "@jupyter-widgets/base",
            "_model_module_version": "1.2.0",
            "_model_name": "LayoutModel",
            "_view_count": null,
            "_view_module": "@jupyter-widgets/base",
            "_view_module_version": "1.2.0",
            "_view_name": "LayoutView",
            "align_content": null,
            "align_items": null,
            "align_self": null,
            "border": null,
            "bottom": null,
            "display": null,
            "flex": null,
            "flex_flow": null,
            "grid_area": null,
            "grid_auto_columns": null,
            "grid_auto_flow": null,
            "grid_auto_rows": null,
            "grid_column": null,
            "grid_gap": null,
            "grid_row": null,
            "grid_template_areas": null,
            "grid_template_columns": null,
            "grid_template_rows": null,
            "height": null,
            "justify_content": null,
            "justify_items": null,
            "left": null,
            "margin": null,
            "max_height": null,
            "max_width": null,
            "min_height": null,
            "min_width": null,
            "object_fit": null,
            "object_position": null,
            "order": null,
            "overflow": null,
            "overflow_x": null,
            "overflow_y": null,
            "padding": null,
            "right": null,
            "top": null,
            "visibility": null,
            "width": null
          }
        },
        "16049eeb5dab4601aef2ce00952a12d7": {
          "model_module": "@jupyter-widgets/base",
          "model_module_version": "1.2.0",
          "model_name": "LayoutModel",
          "state": {
            "_model_module": "@jupyter-widgets/base",
            "_model_module_version": "1.2.0",
            "_model_name": "LayoutModel",
            "_view_count": null,
            "_view_module": "@jupyter-widgets/base",
            "_view_module_version": "1.2.0",
            "_view_name": "LayoutView",
            "align_content": null,
            "align_items": null,
            "align_self": null,
            "border": null,
            "bottom": null,
            "display": null,
            "flex": null,
            "flex_flow": null,
            "grid_area": null,
            "grid_auto_columns": null,
            "grid_auto_flow": null,
            "grid_auto_rows": null,
            "grid_column": null,
            "grid_gap": null,
            "grid_row": null,
            "grid_template_areas": null,
            "grid_template_columns": null,
            "grid_template_rows": null,
            "height": null,
            "justify_content": null,
            "justify_items": null,
            "left": null,
            "margin": null,
            "max_height": null,
            "max_width": null,
            "min_height": null,
            "min_width": null,
            "object_fit": null,
            "object_position": null,
            "order": null,
            "overflow": null,
            "overflow_x": null,
            "overflow_y": null,
            "padding": null,
            "right": null,
            "top": null,
            "visibility": null,
            "width": null
          }
        },
        "198d24a13e63401b9255546c1529f1c8": {
          "model_module": "@jupyter-widgets/controls",
          "model_module_version": "1.5.0",
          "model_name": "HBoxModel",
          "state": {
            "_dom_classes": [],
            "_model_module": "@jupyter-widgets/controls",
            "_model_module_version": "1.5.0",
            "_model_name": "HBoxModel",
            "_view_count": null,
            "_view_module": "@jupyter-widgets/controls",
            "_view_module_version": "1.5.0",
            "_view_name": "HBoxView",
            "box_style": "",
            "children": [
              "IPY_MODEL_c6c2c757bd644371938ccf6512979710",
              "IPY_MODEL_02735360e5d84b26bc2caf867e31acf5",
              "IPY_MODEL_ef98e243cdb74d0d84d0ad99a838ff8c"
            ],
            "layout": "IPY_MODEL_16049eeb5dab4601aef2ce00952a12d7"
          }
        },
        "230cfee3ebd9405185d20171ce2a897a": {
          "model_module": "@jupyter-widgets/controls",
          "model_module_version": "1.5.0",
          "model_name": "DescriptionStyleModel",
          "state": {
            "_model_module": "@jupyter-widgets/controls",
            "_model_module_version": "1.5.0",
            "_model_name": "DescriptionStyleModel",
            "_view_count": null,
            "_view_module": "@jupyter-widgets/base",
            "_view_module_version": "1.2.0",
            "_view_name": "StyleView",
            "description_width": ""
          }
        },
        "24358a0ca54d42a48066b315752ce0f6": {
          "model_module": "@jupyter-widgets/controls",
          "model_module_version": "1.5.0",
          "model_name": "FloatProgressModel",
          "state": {
            "_dom_classes": [],
            "_model_module": "@jupyter-widgets/controls",
            "_model_module_version": "1.5.0",
            "_model_name": "FloatProgressModel",
            "_view_count": null,
            "_view_module": "@jupyter-widgets/controls",
            "_view_module_version": "1.5.0",
            "_view_name": "ProgressView",
            "bar_style": "success",
            "description": "",
            "description_tooltip": null,
            "layout": "IPY_MODEL_ac05f6ec183e49a7a7537d7fb2c62d91",
            "max": 216,
            "min": 0,
            "orientation": "horizontal",
            "style": "IPY_MODEL_37ac8ad1411a4a9cbb5891e7dbd56b13",
            "value": 216
          }
        },
        "2c9ec7171d8f4ad3a4efe372e24ea29f": {
          "model_module": "@jupyter-widgets/controls",
          "model_module_version": "1.5.0",
          "model_name": "HTMLModel",
          "state": {
            "_dom_classes": [],
            "_model_module": "@jupyter-widgets/controls",
            "_model_module_version": "1.5.0",
            "_model_name": "HTMLModel",
            "_view_count": null,
            "_view_module": "@jupyter-widgets/controls",
            "_view_module_version": "1.5.0",
            "_view_name": "HTMLView",
            "description": "",
            "description_tooltip": null,
            "layout": "IPY_MODEL_a5aa41baf1084a47b44f79f8a0b5657f",
            "placeholder": "​",
            "style": "IPY_MODEL_99f45765a69e4c9fbc922dcd3d8a0fb9",
            "value": " 61/383 [00:06&lt;00:35,  9.14it/s]"
          }
        },
        "34186ff0fe7b45819aa893b105369f10": {
          "model_module": "@jupyter-widgets/controls",
          "model_module_version": "1.5.0",
          "model_name": "FloatProgressModel",
          "state": {
            "_dom_classes": [],
            "_model_module": "@jupyter-widgets/controls",
            "_model_module_version": "1.5.0",
            "_model_name": "FloatProgressModel",
            "_view_count": null,
            "_view_module": "@jupyter-widgets/controls",
            "_view_module_version": "1.5.0",
            "_view_name": "ProgressView",
            "bar_style": "success",
            "description": "",
            "description_tooltip": null,
            "layout": "IPY_MODEL_ba25c6ee5f8a4e2cb963c90d54cb724e",
            "max": 54,
            "min": 0,
            "orientation": "horizontal",
            "style": "IPY_MODEL_f3079a34686b4185a4bef048fe980c7f",
            "value": 54
          }
        },
        "35b5dc48b32c407192258788fd28ecb4": {
          "model_module": "@jupyter-widgets/controls",
          "model_module_version": "1.5.0",
          "model_name": "FloatProgressModel",
          "state": {
            "_dom_classes": [],
            "_model_module": "@jupyter-widgets/controls",
            "_model_module_version": "1.5.0",
            "_model_name": "FloatProgressModel",
            "_view_count": null,
            "_view_module": "@jupyter-widgets/controls",
            "_view_module_version": "1.5.0",
            "_view_name": "ProgressView",
            "bar_style": "",
            "description": "",
            "description_tooltip": null,
            "layout": "IPY_MODEL_3dcafcbba0a84e50af8eb79bd739e684",
            "max": 383,
            "min": 0,
            "orientation": "horizontal",
            "style": "IPY_MODEL_dff5bb52c4294d2ab9fcae8c1a306649",
            "value": 61
          }
        },
        "37ac8ad1411a4a9cbb5891e7dbd56b13": {
          "model_module": "@jupyter-widgets/controls",
          "model_module_version": "1.5.0",
          "model_name": "ProgressStyleModel",
          "state": {
            "_model_module": "@jupyter-widgets/controls",
            "_model_module_version": "1.5.0",
            "_model_name": "ProgressStyleModel",
            "_view_count": null,
            "_view_module": "@jupyter-widgets/base",
            "_view_module_version": "1.2.0",
            "_view_name": "StyleView",
            "bar_color": null,
            "description_width": ""
          }
        },
        "3a6abe959d844d64b25170755290cb8a": {
          "model_module": "@jupyter-widgets/base",
          "model_module_version": "1.2.0",
          "model_name": "LayoutModel",
          "state": {
            "_model_module": "@jupyter-widgets/base",
            "_model_module_version": "1.2.0",
            "_model_name": "LayoutModel",
            "_view_count": null,
            "_view_module": "@jupyter-widgets/base",
            "_view_module_version": "1.2.0",
            "_view_name": "LayoutView",
            "align_content": null,
            "align_items": null,
            "align_self": null,
            "border": null,
            "bottom": null,
            "display": null,
            "flex": null,
            "flex_flow": null,
            "grid_area": null,
            "grid_auto_columns": null,
            "grid_auto_flow": null,
            "grid_auto_rows": null,
            "grid_column": null,
            "grid_gap": null,
            "grid_row": null,
            "grid_template_areas": null,
            "grid_template_columns": null,
            "grid_template_rows": null,
            "height": null,
            "justify_content": null,
            "justify_items": null,
            "left": null,
            "margin": null,
            "max_height": null,
            "max_width": null,
            "min_height": null,
            "min_width": null,
            "object_fit": null,
            "object_position": null,
            "order": null,
            "overflow": null,
            "overflow_x": null,
            "overflow_y": null,
            "padding": null,
            "right": null,
            "top": null,
            "visibility": null,
            "width": null
          }
        },
        "3adcb52e88374a86b6efc736ad1f93ca": {
          "model_module": "@jupyter-widgets/controls",
          "model_module_version": "1.5.0",
          "model_name": "ProgressStyleModel",
          "state": {
            "_model_module": "@jupyter-widgets/controls",
            "_model_module_version": "1.5.0",
            "_model_name": "ProgressStyleModel",
            "_view_count": null,
            "_view_module": "@jupyter-widgets/base",
            "_view_module_version": "1.2.0",
            "_view_name": "StyleView",
            "bar_color": null,
            "description_width": ""
          }
        },
        "3b7fb640e2a34c9db4a659ed085af852": {
          "model_module": "@jupyter-widgets/base",
          "model_module_version": "1.2.0",
          "model_name": "LayoutModel",
          "state": {
            "_model_module": "@jupyter-widgets/base",
            "_model_module_version": "1.2.0",
            "_model_name": "LayoutModel",
            "_view_count": null,
            "_view_module": "@jupyter-widgets/base",
            "_view_module_version": "1.2.0",
            "_view_name": "LayoutView",
            "align_content": null,
            "align_items": null,
            "align_self": null,
            "border": null,
            "bottom": null,
            "display": null,
            "flex": null,
            "flex_flow": null,
            "grid_area": null,
            "grid_auto_columns": null,
            "grid_auto_flow": null,
            "grid_auto_rows": null,
            "grid_column": null,
            "grid_gap": null,
            "grid_row": null,
            "grid_template_areas": null,
            "grid_template_columns": null,
            "grid_template_rows": null,
            "height": null,
            "justify_content": null,
            "justify_items": null,
            "left": null,
            "margin": null,
            "max_height": null,
            "max_width": null,
            "min_height": null,
            "min_width": null,
            "object_fit": null,
            "object_position": null,
            "order": null,
            "overflow": null,
            "overflow_x": null,
            "overflow_y": null,
            "padding": null,
            "right": null,
            "top": null,
            "visibility": null,
            "width": null
          }
        },
        "3d747e2550f24159bb599dcb1d89c3bf": {
          "model_module": "@jupyter-widgets/controls",
          "model_module_version": "1.5.0",
          "model_name": "HTMLModel",
          "state": {
            "_dom_classes": [],
            "_model_module": "@jupyter-widgets/controls",
            "_model_module_version": "1.5.0",
            "_model_name": "HTMLModel",
            "_view_count": null,
            "_view_module": "@jupyter-widgets/controls",
            "_view_module_version": "1.5.0",
            "_view_name": "HTMLView",
            "description": "",
            "description_tooltip": null,
            "layout": "IPY_MODEL_dd326d0cc49e4d51bc1029b44b8a5631",
            "placeholder": "​",
            "style": "IPY_MODEL_c17d797c7dab45aeaf87efdd39d1583c",
            "value": " 214/214 [00:23&lt;00:00,  9.34it/s]"
          }
        },
        "3dcafcbba0a84e50af8eb79bd739e684": {
          "model_module": "@jupyter-widgets/base",
          "model_module_version": "1.2.0",
          "model_name": "LayoutModel",
          "state": {
            "_model_module": "@jupyter-widgets/base",
            "_model_module_version": "1.2.0",
            "_model_name": "LayoutModel",
            "_view_count": null,
            "_view_module": "@jupyter-widgets/base",
            "_view_module_version": "1.2.0",
            "_view_name": "LayoutView",
            "align_content": null,
            "align_items": null,
            "align_self": null,
            "border": null,
            "bottom": null,
            "display": null,
            "flex": null,
            "flex_flow": null,
            "grid_area": null,
            "grid_auto_columns": null,
            "grid_auto_flow": null,
            "grid_auto_rows": null,
            "grid_column": null,
            "grid_gap": null,
            "grid_row": null,
            "grid_template_areas": null,
            "grid_template_columns": null,
            "grid_template_rows": null,
            "height": null,
            "justify_content": null,
            "justify_items": null,
            "left": null,
            "margin": null,
            "max_height": null,
            "max_width": null,
            "min_height": null,
            "min_width": null,
            "object_fit": null,
            "object_position": null,
            "order": null,
            "overflow": null,
            "overflow_x": null,
            "overflow_y": null,
            "padding": null,
            "right": null,
            "top": null,
            "visibility": null,
            "width": null
          }
        },
        "46e015b257d141c8be9ddbd01f994467": {
          "model_module": "@jupyter-widgets/controls",
          "model_module_version": "1.5.0",
          "model_name": "HTMLModel",
          "state": {
            "_dom_classes": [],
            "_model_module": "@jupyter-widgets/controls",
            "_model_module_version": "1.5.0",
            "_model_name": "HTMLModel",
            "_view_count": null,
            "_view_module": "@jupyter-widgets/controls",
            "_view_module_version": "1.5.0",
            "_view_name": "HTMLView",
            "description": "",
            "description_tooltip": null,
            "layout": "IPY_MODEL_b338c11691c1439ca8f4508ec4df8559",
            "placeholder": "​",
            "style": "IPY_MODEL_829da30d21d043f99b0d9bd424432c33",
            "value": "Training:  16%"
          }
        },
        "4bbc6565d4a24993b5548928bde9bbb1": {
          "model_module": "@jupyter-widgets/controls",
          "model_module_version": "1.5.0",
          "model_name": "DescriptionStyleModel",
          "state": {
            "_model_module": "@jupyter-widgets/controls",
            "_model_module_version": "1.5.0",
            "_model_name": "DescriptionStyleModel",
            "_view_count": null,
            "_view_module": "@jupyter-widgets/base",
            "_view_module_version": "1.2.0",
            "_view_name": "StyleView",
            "description_width": ""
          }
        },
        "4d33b97c23894921bfda96dbf8c00479": {
          "model_module": "@jupyter-widgets/base",
          "model_module_version": "1.2.0",
          "model_name": "LayoutModel",
          "state": {
            "_model_module": "@jupyter-widgets/base",
            "_model_module_version": "1.2.0",
            "_model_name": "LayoutModel",
            "_view_count": null,
            "_view_module": "@jupyter-widgets/base",
            "_view_module_version": "1.2.0",
            "_view_name": "LayoutView",
            "align_content": null,
            "align_items": null,
            "align_self": null,
            "border": null,
            "bottom": null,
            "display": null,
            "flex": null,
            "flex_flow": null,
            "grid_area": null,
            "grid_auto_columns": null,
            "grid_auto_flow": null,
            "grid_auto_rows": null,
            "grid_column": null,
            "grid_gap": null,
            "grid_row": null,
            "grid_template_areas": null,
            "grid_template_columns": null,
            "grid_template_rows": null,
            "height": null,
            "justify_content": null,
            "justify_items": null,
            "left": null,
            "margin": null,
            "max_height": null,
            "max_width": null,
            "min_height": null,
            "min_width": null,
            "object_fit": null,
            "object_position": null,
            "order": null,
            "overflow": null,
            "overflow_x": null,
            "overflow_y": null,
            "padding": null,
            "right": null,
            "top": null,
            "visibility": null,
            "width": null
          }
        },
        "56a9770ca0cd4a5ebb8df6748a4793a9": {
          "model_module": "@jupyter-widgets/base",
          "model_module_version": "1.2.0",
          "model_name": "LayoutModel",
          "state": {
            "_model_module": "@jupyter-widgets/base",
            "_model_module_version": "1.2.0",
            "_model_name": "LayoutModel",
            "_view_count": null,
            "_view_module": "@jupyter-widgets/base",
            "_view_module_version": "1.2.0",
            "_view_name": "LayoutView",
            "align_content": null,
            "align_items": null,
            "align_self": null,
            "border": null,
            "bottom": null,
            "display": null,
            "flex": null,
            "flex_flow": null,
            "grid_area": null,
            "grid_auto_columns": null,
            "grid_auto_flow": null,
            "grid_auto_rows": null,
            "grid_column": null,
            "grid_gap": null,
            "grid_row": null,
            "grid_template_areas": null,
            "grid_template_columns": null,
            "grid_template_rows": null,
            "height": null,
            "justify_content": null,
            "justify_items": null,
            "left": null,
            "margin": null,
            "max_height": null,
            "max_width": null,
            "min_height": null,
            "min_width": null,
            "object_fit": null,
            "object_position": null,
            "order": null,
            "overflow": null,
            "overflow_x": null,
            "overflow_y": null,
            "padding": null,
            "right": null,
            "top": null,
            "visibility": null,
            "width": null
          }
        },
        "59adb31ee0384465a8a512697b457e9c": {
          "model_module": "@jupyter-widgets/controls",
          "model_module_version": "1.5.0",
          "model_name": "HTMLModel",
          "state": {
            "_dom_classes": [],
            "_model_module": "@jupyter-widgets/controls",
            "_model_module_version": "1.5.0",
            "_model_name": "HTMLModel",
            "_view_count": null,
            "_view_module": "@jupyter-widgets/controls",
            "_view_module_version": "1.5.0",
            "_view_name": "HTMLView",
            "description": "",
            "description_tooltip": null,
            "layout": "IPY_MODEL_0fc35e1929cb4511948a83e24a0e8655",
            "placeholder": "​",
            "style": "IPY_MODEL_230cfee3ebd9405185d20171ce2a897a",
            "value": " 54/54 [00:01&lt;00:00, 28.97it/s]"
          }
        },
        "5ce85a94ee364b8a980df9b1397618f1": {
          "model_module": "@jupyter-widgets/base",
          "model_module_version": "1.2.0",
          "model_name": "LayoutModel",
          "state": {
            "_model_module": "@jupyter-widgets/base",
            "_model_module_version": "1.2.0",
            "_model_name": "LayoutModel",
            "_view_count": null,
            "_view_module": "@jupyter-widgets/base",
            "_view_module_version": "1.2.0",
            "_view_name": "LayoutView",
            "align_content": null,
            "align_items": null,
            "align_self": null,
            "border": null,
            "bottom": null,
            "display": null,
            "flex": null,
            "flex_flow": null,
            "grid_area": null,
            "grid_auto_columns": null,
            "grid_auto_flow": null,
            "grid_auto_rows": null,
            "grid_column": null,
            "grid_gap": null,
            "grid_row": null,
            "grid_template_areas": null,
            "grid_template_columns": null,
            "grid_template_rows": null,
            "height": null,
            "justify_content": null,
            "justify_items": null,
            "left": null,
            "margin": null,
            "max_height": null,
            "max_width": null,
            "min_height": null,
            "min_width": null,
            "object_fit": null,
            "object_position": null,
            "order": null,
            "overflow": null,
            "overflow_x": null,
            "overflow_y": null,
            "padding": null,
            "right": null,
            "top": null,
            "visibility": null,
            "width": null
          }
        },
        "639dfe9923a645fd9f063d319611e7d4": {
          "model_module": "@jupyter-widgets/base",
          "model_module_version": "1.2.0",
          "model_name": "LayoutModel",
          "state": {
            "_model_module": "@jupyter-widgets/base",
            "_model_module_version": "1.2.0",
            "_model_name": "LayoutModel",
            "_view_count": null,
            "_view_module": "@jupyter-widgets/base",
            "_view_module_version": "1.2.0",
            "_view_name": "LayoutView",
            "align_content": null,
            "align_items": null,
            "align_self": null,
            "border": null,
            "bottom": null,
            "display": null,
            "flex": null,
            "flex_flow": null,
            "grid_area": null,
            "grid_auto_columns": null,
            "grid_auto_flow": null,
            "grid_auto_rows": null,
            "grid_column": null,
            "grid_gap": null,
            "grid_row": null,
            "grid_template_areas": null,
            "grid_template_columns": null,
            "grid_template_rows": null,
            "height": null,
            "justify_content": null,
            "justify_items": null,
            "left": null,
            "margin": null,
            "max_height": null,
            "max_width": null,
            "min_height": null,
            "min_width": null,
            "object_fit": null,
            "object_position": null,
            "order": null,
            "overflow": null,
            "overflow_x": null,
            "overflow_y": null,
            "padding": null,
            "right": null,
            "top": null,
            "visibility": null,
            "width": null
          }
        },
        "685bde8173fc44c698f7ad3fa565a5cd": {
          "model_module": "@jupyter-widgets/controls",
          "model_module_version": "1.5.0",
          "model_name": "DescriptionStyleModel",
          "state": {
            "_model_module": "@jupyter-widgets/controls",
            "_model_module_version": "1.5.0",
            "_model_name": "DescriptionStyleModel",
            "_view_count": null,
            "_view_module": "@jupyter-widgets/base",
            "_view_module_version": "1.2.0",
            "_view_name": "StyleView",
            "description_width": ""
          }
        },
        "71fad0f5862a4f7eb0861d29235a7c3d": {
          "model_module": "@jupyter-widgets/controls",
          "model_module_version": "1.5.0",
          "model_name": "HTMLModel",
          "state": {
            "_dom_classes": [],
            "_model_module": "@jupyter-widgets/controls",
            "_model_module_version": "1.5.0",
            "_model_name": "HTMLModel",
            "_view_count": null,
            "_view_module": "@jupyter-widgets/controls",
            "_view_module_version": "1.5.0",
            "_view_name": "HTMLView",
            "description": "",
            "description_tooltip": null,
            "layout": "IPY_MODEL_56a9770ca0cd4a5ebb8df6748a4793a9",
            "placeholder": "​",
            "style": "IPY_MODEL_df03406298f94f1db462df4007c99895",
            "value": " 624/624 [00:21&lt;00:00, 28.92it/s]"
          }
        },
        "76aef916224b40b7bfc87d5c1b594e98": {
          "model_module": "@jupyter-widgets/base",
          "model_module_version": "1.2.0",
          "model_name": "LayoutModel",
          "state": {
            "_model_module": "@jupyter-widgets/base",
            "_model_module_version": "1.2.0",
            "_model_name": "LayoutModel",
            "_view_count": null,
            "_view_module": "@jupyter-widgets/base",
            "_view_module_version": "1.2.0",
            "_view_name": "LayoutView",
            "align_content": null,
            "align_items": null,
            "align_self": null,
            "border": null,
            "bottom": null,
            "display": null,
            "flex": null,
            "flex_flow": null,
            "grid_area": null,
            "grid_auto_columns": null,
            "grid_auto_flow": null,
            "grid_auto_rows": null,
            "grid_column": null,
            "grid_gap": null,
            "grid_row": null,
            "grid_template_areas": null,
            "grid_template_columns": null,
            "grid_template_rows": null,
            "height": null,
            "justify_content": null,
            "justify_items": null,
            "left": null,
            "margin": null,
            "max_height": null,
            "max_width": null,
            "min_height": null,
            "min_width": null,
            "object_fit": null,
            "object_position": null,
            "order": null,
            "overflow": null,
            "overflow_x": null,
            "overflow_y": null,
            "padding": null,
            "right": null,
            "top": null,
            "visibility": null,
            "width": null
          }
        },
        "7c1207b443864896a0363df8950a47dd": {
          "model_module": "@jupyter-widgets/controls",
          "model_module_version": "1.5.0",
          "model_name": "HTMLModel",
          "state": {
            "_dom_classes": [],
            "_model_module": "@jupyter-widgets/controls",
            "_model_module_version": "1.5.0",
            "_model_name": "HTMLModel",
            "_view_count": null,
            "_view_module": "@jupyter-widgets/controls",
            "_view_module_version": "1.5.0",
            "_view_name": "HTMLView",
            "description": "",
            "description_tooltip": null,
            "layout": "IPY_MODEL_974fe668ebad4fc0a49575f1df9f61d7",
            "placeholder": "​",
            "style": "IPY_MODEL_4bbc6565d4a24993b5548928bde9bbb1",
            "value": "Pseudo-labeling: 100%"
          }
        },
        "7e207e313a6646aa803fd63ef5d5d761": {
          "model_module": "@jupyter-widgets/controls",
          "model_module_version": "1.5.0",
          "model_name": "HTMLModel",
          "state": {
            "_dom_classes": [],
            "_model_module": "@jupyter-widgets/controls",
            "_model_module_version": "1.5.0",
            "_model_name": "HTMLModel",
            "_view_count": null,
            "_view_module": "@jupyter-widgets/controls",
            "_view_module_version": "1.5.0",
            "_view_name": "HTMLView",
            "description": "",
            "description_tooltip": null,
            "layout": "IPY_MODEL_cdb7f5179e9544e58ec1202fa701c060",
            "placeholder": "​",
            "style": "IPY_MODEL_d8f40b1129e64e7282312ccc465ab3c6",
            "value": "Evaluating: 100%"
          }
        },
        "829da30d21d043f99b0d9bd424432c33": {
          "model_module": "@jupyter-widgets/controls",
          "model_module_version": "1.5.0",
          "model_name": "DescriptionStyleModel",
          "state": {
            "_model_module": "@jupyter-widgets/controls",
            "_model_module_version": "1.5.0",
            "_model_name": "DescriptionStyleModel",
            "_view_count": null,
            "_view_module": "@jupyter-widgets/base",
            "_view_module_version": "1.2.0",
            "_view_name": "StyleView",
            "description_width": ""
          }
        },
        "8af9aa0ec84e49a195f732bb1923eb1f": {
          "model_module": "@jupyter-widgets/controls",
          "model_module_version": "1.5.0",
          "model_name": "HBoxModel",
          "state": {
            "_dom_classes": [],
            "_model_module": "@jupyter-widgets/controls",
            "_model_module_version": "1.5.0",
            "_model_name": "HBoxModel",
            "_view_count": null,
            "_view_module": "@jupyter-widgets/controls",
            "_view_module_version": "1.5.0",
            "_view_name": "HBoxView",
            "box_style": "",
            "children": [
              "IPY_MODEL_c4e35fd9a65d4c8d88f8564a2b77731b",
              "IPY_MODEL_01e1ec54c58241b1a6dca810e1914a19",
              "IPY_MODEL_3d747e2550f24159bb599dcb1d89c3bf"
            ],
            "layout": "IPY_MODEL_5ce85a94ee364b8a980df9b1397618f1"
          }
        },
        "8c061cc5e1c5430d98460188e5731114": {
          "model_module": "@jupyter-widgets/controls",
          "model_module_version": "1.5.0",
          "model_name": "HTMLModel",
          "state": {
            "_dom_classes": [],
            "_model_module": "@jupyter-widgets/controls",
            "_model_module_version": "1.5.0",
            "_model_name": "HTMLModel",
            "_view_count": null,
            "_view_module": "@jupyter-widgets/controls",
            "_view_module_version": "1.5.0",
            "_view_name": "HTMLView",
            "description": "",
            "description_tooltip": null,
            "layout": "IPY_MODEL_ffc9bb993b0a455db0cdd2921ad3defe",
            "placeholder": "​",
            "style": "IPY_MODEL_9eb632e5ebee4d929b9b3da8716a59f1",
            "value": "Evaluating: 100%"
          }
        },
        "8fd8b653fada48f79e0eb9b6940dfc41": {
          "model_module": "@jupyter-widgets/base",
          "model_module_version": "1.2.0",
          "model_name": "LayoutModel",
          "state": {
            "_model_module": "@jupyter-widgets/base",
            "_model_module_version": "1.2.0",
            "_model_name": "LayoutModel",
            "_view_count": null,
            "_view_module": "@jupyter-widgets/base",
            "_view_module_version": "1.2.0",
            "_view_name": "LayoutView",
            "align_content": null,
            "align_items": null,
            "align_self": null,
            "border": null,
            "bottom": null,
            "display": null,
            "flex": null,
            "flex_flow": null,
            "grid_area": null,
            "grid_auto_columns": null,
            "grid_auto_flow": null,
            "grid_auto_rows": null,
            "grid_column": null,
            "grid_gap": null,
            "grid_row": null,
            "grid_template_areas": null,
            "grid_template_columns": null,
            "grid_template_rows": null,
            "height": null,
            "justify_content": null,
            "justify_items": null,
            "left": null,
            "margin": null,
            "max_height": null,
            "max_width": null,
            "min_height": null,
            "min_width": null,
            "object_fit": null,
            "object_position": null,
            "order": null,
            "overflow": null,
            "overflow_x": null,
            "overflow_y": null,
            "padding": null,
            "right": null,
            "top": null,
            "visibility": null,
            "width": null
          }
        },
        "95aa0f051903406fbdaa73bd88a68f1d": {
          "model_module": "@jupyter-widgets/controls",
          "model_module_version": "1.5.0",
          "model_name": "HBoxModel",
          "state": {
            "_dom_classes": [],
            "_model_module": "@jupyter-widgets/controls",
            "_model_module_version": "1.5.0",
            "_model_name": "HBoxModel",
            "_view_count": null,
            "_view_module": "@jupyter-widgets/controls",
            "_view_module_version": "1.5.0",
            "_view_name": "HBoxView",
            "box_style": "",
            "children": [
              "IPY_MODEL_8c061cc5e1c5430d98460188e5731114",
              "IPY_MODEL_34186ff0fe7b45819aa893b105369f10",
              "IPY_MODEL_ba4016cedcd64024ba2dab3b17925ae0"
            ],
            "layout": "IPY_MODEL_a2e69ac00ca04127aa7adad3112f9aa0"
          }
        },
        "974fe668ebad4fc0a49575f1df9f61d7": {
          "model_module": "@jupyter-widgets/base",
          "model_module_version": "1.2.0",
          "model_name": "LayoutModel",
          "state": {
            "_model_module": "@jupyter-widgets/base",
            "_model_module_version": "1.2.0",
            "_model_name": "LayoutModel",
            "_view_count": null,
            "_view_module": "@jupyter-widgets/base",
            "_view_module_version": "1.2.0",
            "_view_name": "LayoutView",
            "align_content": null,
            "align_items": null,
            "align_self": null,
            "border": null,
            "bottom": null,
            "display": null,
            "flex": null,
            "flex_flow": null,
            "grid_area": null,
            "grid_auto_columns": null,
            "grid_auto_flow": null,
            "grid_auto_rows": null,
            "grid_column": null,
            "grid_gap": null,
            "grid_row": null,
            "grid_template_areas": null,
            "grid_template_columns": null,
            "grid_template_rows": null,
            "height": null,
            "justify_content": null,
            "justify_items": null,
            "left": null,
            "margin": null,
            "max_height": null,
            "max_width": null,
            "min_height": null,
            "min_width": null,
            "object_fit": null,
            "object_position": null,
            "order": null,
            "overflow": null,
            "overflow_x": null,
            "overflow_y": null,
            "padding": null,
            "right": null,
            "top": null,
            "visibility": null,
            "width": null
          }
        },
        "99483e6f13f6400bbf7b00c2713ccd5c": {
          "model_module": "@jupyter-widgets/controls",
          "model_module_version": "1.5.0",
          "model_name": "DescriptionStyleModel",
          "state": {
            "_model_module": "@jupyter-widgets/controls",
            "_model_module_version": "1.5.0",
            "_model_name": "DescriptionStyleModel",
            "_view_count": null,
            "_view_module": "@jupyter-widgets/base",
            "_view_module_version": "1.2.0",
            "_view_name": "StyleView",
            "description_width": ""
          }
        },
        "99f45765a69e4c9fbc922dcd3d8a0fb9": {
          "model_module": "@jupyter-widgets/controls",
          "model_module_version": "1.5.0",
          "model_name": "DescriptionStyleModel",
          "state": {
            "_model_module": "@jupyter-widgets/controls",
            "_model_module_version": "1.5.0",
            "_model_name": "DescriptionStyleModel",
            "_view_count": null,
            "_view_module": "@jupyter-widgets/base",
            "_view_module_version": "1.2.0",
            "_view_name": "StyleView",
            "description_width": ""
          }
        },
        "9aae3c4054e64e0780f279b99efea92e": {
          "model_module": "@jupyter-widgets/controls",
          "model_module_version": "1.5.0",
          "model_name": "HBoxModel",
          "state": {
            "_dom_classes": [],
            "_model_module": "@jupyter-widgets/controls",
            "_model_module_version": "1.5.0",
            "_model_name": "HBoxModel",
            "_view_count": null,
            "_view_module": "@jupyter-widgets/controls",
            "_view_module_version": "1.5.0",
            "_view_name": "HBoxView",
            "box_style": "",
            "children": [
              "IPY_MODEL_46e015b257d141c8be9ddbd01f994467",
              "IPY_MODEL_35b5dc48b32c407192258788fd28ecb4",
              "IPY_MODEL_2c9ec7171d8f4ad3a4efe372e24ea29f"
            ],
            "layout": "IPY_MODEL_bcfa352cff794a349dfd8fa312372b8e"
          }
        },
        "9eb632e5ebee4d929b9b3da8716a59f1": {
          "model_module": "@jupyter-widgets/controls",
          "model_module_version": "1.5.0",
          "model_name": "DescriptionStyleModel",
          "state": {
            "_model_module": "@jupyter-widgets/controls",
            "_model_module_version": "1.5.0",
            "_model_name": "DescriptionStyleModel",
            "_view_count": null,
            "_view_module": "@jupyter-widgets/base",
            "_view_module_version": "1.2.0",
            "_view_name": "StyleView",
            "description_width": ""
          }
        },
        "a28aa085b4744eeb813ae8575013dab1": {
          "model_module": "@jupyter-widgets/controls",
          "model_module_version": "1.5.0",
          "model_name": "ProgressStyleModel",
          "state": {
            "_model_module": "@jupyter-widgets/controls",
            "_model_module_version": "1.5.0",
            "_model_name": "ProgressStyleModel",
            "_view_count": null,
            "_view_module": "@jupyter-widgets/base",
            "_view_module_version": "1.2.0",
            "_view_name": "StyleView",
            "bar_color": null,
            "description_width": ""
          }
        },
        "a2e69ac00ca04127aa7adad3112f9aa0": {
          "model_module": "@jupyter-widgets/base",
          "model_module_version": "1.2.0",
          "model_name": "LayoutModel",
          "state": {
            "_model_module": "@jupyter-widgets/base",
            "_model_module_version": "1.2.0",
            "_model_name": "LayoutModel",
            "_view_count": null,
            "_view_module": "@jupyter-widgets/base",
            "_view_module_version": "1.2.0",
            "_view_name": "LayoutView",
            "align_content": null,
            "align_items": null,
            "align_self": null,
            "border": null,
            "bottom": null,
            "display": null,
            "flex": null,
            "flex_flow": null,
            "grid_area": null,
            "grid_auto_columns": null,
            "grid_auto_flow": null,
            "grid_auto_rows": null,
            "grid_column": null,
            "grid_gap": null,
            "grid_row": null,
            "grid_template_areas": null,
            "grid_template_columns": null,
            "grid_template_rows": null,
            "height": null,
            "justify_content": null,
            "justify_items": null,
            "left": null,
            "margin": null,
            "max_height": null,
            "max_width": null,
            "min_height": null,
            "min_width": null,
            "object_fit": null,
            "object_position": null,
            "order": null,
            "overflow": null,
            "overflow_x": null,
            "overflow_y": null,
            "padding": null,
            "right": null,
            "top": null,
            "visibility": null,
            "width": null
          }
        },
        "a5aa41baf1084a47b44f79f8a0b5657f": {
          "model_module": "@jupyter-widgets/base",
          "model_module_version": "1.2.0",
          "model_name": "LayoutModel",
          "state": {
            "_model_module": "@jupyter-widgets/base",
            "_model_module_version": "1.2.0",
            "_model_name": "LayoutModel",
            "_view_count": null,
            "_view_module": "@jupyter-widgets/base",
            "_view_module_version": "1.2.0",
            "_view_name": "LayoutView",
            "align_content": null,
            "align_items": null,
            "align_self": null,
            "border": null,
            "bottom": null,
            "display": null,
            "flex": null,
            "flex_flow": null,
            "grid_area": null,
            "grid_auto_columns": null,
            "grid_auto_flow": null,
            "grid_auto_rows": null,
            "grid_column": null,
            "grid_gap": null,
            "grid_row": null,
            "grid_template_areas": null,
            "grid_template_columns": null,
            "grid_template_rows": null,
            "height": null,
            "justify_content": null,
            "justify_items": null,
            "left": null,
            "margin": null,
            "max_height": null,
            "max_width": null,
            "min_height": null,
            "min_width": null,
            "object_fit": null,
            "object_position": null,
            "order": null,
            "overflow": null,
            "overflow_x": null,
            "overflow_y": null,
            "padding": null,
            "right": null,
            "top": null,
            "visibility": null,
            "width": null
          }
        },
        "a799daff980f49e9943ca9521ae7facb": {
          "model_module": "@jupyter-widgets/base",
          "model_module_version": "1.2.0",
          "model_name": "LayoutModel",
          "state": {
            "_model_module": "@jupyter-widgets/base",
            "_model_module_version": "1.2.0",
            "_model_name": "LayoutModel",
            "_view_count": null,
            "_view_module": "@jupyter-widgets/base",
            "_view_module_version": "1.2.0",
            "_view_name": "LayoutView",
            "align_content": null,
            "align_items": null,
            "align_self": null,
            "border": null,
            "bottom": null,
            "display": null,
            "flex": null,
            "flex_flow": null,
            "grid_area": null,
            "grid_auto_columns": null,
            "grid_auto_flow": null,
            "grid_auto_rows": null,
            "grid_column": null,
            "grid_gap": null,
            "grid_row": null,
            "grid_template_areas": null,
            "grid_template_columns": null,
            "grid_template_rows": null,
            "height": null,
            "justify_content": null,
            "justify_items": null,
            "left": null,
            "margin": null,
            "max_height": null,
            "max_width": null,
            "min_height": null,
            "min_width": null,
            "object_fit": null,
            "object_position": null,
            "order": null,
            "overflow": null,
            "overflow_x": null,
            "overflow_y": null,
            "padding": null,
            "right": null,
            "top": null,
            "visibility": null,
            "width": null
          }
        },
        "aa1cbf0fca7747739b34ce6f38dba867": {
          "model_module": "@jupyter-widgets/controls",
          "model_module_version": "1.5.0",
          "model_name": "HTMLModel",
          "state": {
            "_dom_classes": [],
            "_model_module": "@jupyter-widgets/controls",
            "_model_module_version": "1.5.0",
            "_model_name": "HTMLModel",
            "_view_count": null,
            "_view_module": "@jupyter-widgets/controls",
            "_view_module_version": "1.5.0",
            "_view_name": "HTMLView",
            "description": "",
            "description_tooltip": null,
            "layout": "IPY_MODEL_76aef916224b40b7bfc87d5c1b594e98",
            "placeholder": "​",
            "style": "IPY_MODEL_d19ed4af36cd4597869a020b4329b0df",
            "value": " 216/216 [00:23&lt;00:00,  9.33it/s]"
          }
        },
        "abfe8b5a8804462b87be78ae420c5165": {
          "model_module": "@jupyter-widgets/controls",
          "model_module_version": "1.5.0",
          "model_name": "FloatProgressModel",
          "state": {
            "_dom_classes": [],
            "_model_module": "@jupyter-widgets/controls",
            "_model_module_version": "1.5.0",
            "_model_name": "FloatProgressModel",
            "_view_count": null,
            "_view_module": "@jupyter-widgets/controls",
            "_view_module_version": "1.5.0",
            "_view_name": "ProgressView",
            "bar_style": "success",
            "description": "",
            "description_tooltip": null,
            "layout": "IPY_MODEL_639dfe9923a645fd9f063d319611e7d4",
            "max": 624,
            "min": 0,
            "orientation": "horizontal",
            "style": "IPY_MODEL_cf2f89241b41401e9336a6ec2fbe89a7",
            "value": 624
          }
        },
        "ac05f6ec183e49a7a7537d7fb2c62d91": {
          "model_module": "@jupyter-widgets/base",
          "model_module_version": "1.2.0",
          "model_name": "LayoutModel",
          "state": {
            "_model_module": "@jupyter-widgets/base",
            "_model_module_version": "1.2.0",
            "_model_name": "LayoutModel",
            "_view_count": null,
            "_view_module": "@jupyter-widgets/base",
            "_view_module_version": "1.2.0",
            "_view_name": "LayoutView",
            "align_content": null,
            "align_items": null,
            "align_self": null,
            "border": null,
            "bottom": null,
            "display": null,
            "flex": null,
            "flex_flow": null,
            "grid_area": null,
            "grid_auto_columns": null,
            "grid_auto_flow": null,
            "grid_auto_rows": null,
            "grid_column": null,
            "grid_gap": null,
            "grid_row": null,
            "grid_template_areas": null,
            "grid_template_columns": null,
            "grid_template_rows": null,
            "height": null,
            "justify_content": null,
            "justify_items": null,
            "left": null,
            "margin": null,
            "max_height": null,
            "max_width": null,
            "min_height": null,
            "min_width": null,
            "object_fit": null,
            "object_position": null,
            "order": null,
            "overflow": null,
            "overflow_x": null,
            "overflow_y": null,
            "padding": null,
            "right": null,
            "top": null,
            "visibility": null,
            "width": null
          }
        },
        "acdce086c19f402e84be5d3a43ca4efe": {
          "model_module": "@jupyter-widgets/controls",
          "model_module_version": "1.5.0",
          "model_name": "DescriptionStyleModel",
          "state": {
            "_model_module": "@jupyter-widgets/controls",
            "_model_module_version": "1.5.0",
            "_model_name": "DescriptionStyleModel",
            "_view_count": null,
            "_view_module": "@jupyter-widgets/base",
            "_view_module_version": "1.2.0",
            "_view_name": "StyleView",
            "description_width": ""
          }
        },
        "ae95bc6f78174a6cb2e3490d051bda6d": {
          "model_module": "@jupyter-widgets/base",
          "model_module_version": "1.2.0",
          "model_name": "LayoutModel",
          "state": {
            "_model_module": "@jupyter-widgets/base",
            "_model_module_version": "1.2.0",
            "_model_name": "LayoutModel",
            "_view_count": null,
            "_view_module": "@jupyter-widgets/base",
            "_view_module_version": "1.2.0",
            "_view_name": "LayoutView",
            "align_content": null,
            "align_items": null,
            "align_self": null,
            "border": null,
            "bottom": null,
            "display": null,
            "flex": null,
            "flex_flow": null,
            "grid_area": null,
            "grid_auto_columns": null,
            "grid_auto_flow": null,
            "grid_auto_rows": null,
            "grid_column": null,
            "grid_gap": null,
            "grid_row": null,
            "grid_template_areas": null,
            "grid_template_columns": null,
            "grid_template_rows": null,
            "height": null,
            "justify_content": null,
            "justify_items": null,
            "left": null,
            "margin": null,
            "max_height": null,
            "max_width": null,
            "min_height": null,
            "min_width": null,
            "object_fit": null,
            "object_position": null,
            "order": null,
            "overflow": null,
            "overflow_x": null,
            "overflow_y": null,
            "padding": null,
            "right": null,
            "top": null,
            "visibility": null,
            "width": null
          }
        },
        "b338c11691c1439ca8f4508ec4df8559": {
          "model_module": "@jupyter-widgets/base",
          "model_module_version": "1.2.0",
          "model_name": "LayoutModel",
          "state": {
            "_model_module": "@jupyter-widgets/base",
            "_model_module_version": "1.2.0",
            "_model_name": "LayoutModel",
            "_view_count": null,
            "_view_module": "@jupyter-widgets/base",
            "_view_module_version": "1.2.0",
            "_view_name": "LayoutView",
            "align_content": null,
            "align_items": null,
            "align_self": null,
            "border": null,
            "bottom": null,
            "display": null,
            "flex": null,
            "flex_flow": null,
            "grid_area": null,
            "grid_auto_columns": null,
            "grid_auto_flow": null,
            "grid_auto_rows": null,
            "grid_column": null,
            "grid_gap": null,
            "grid_row": null,
            "grid_template_areas": null,
            "grid_template_columns": null,
            "grid_template_rows": null,
            "height": null,
            "justify_content": null,
            "justify_items": null,
            "left": null,
            "margin": null,
            "max_height": null,
            "max_width": null,
            "min_height": null,
            "min_width": null,
            "object_fit": null,
            "object_position": null,
            "order": null,
            "overflow": null,
            "overflow_x": null,
            "overflow_y": null,
            "padding": null,
            "right": null,
            "top": null,
            "visibility": null,
            "width": null
          }
        },
        "b704e0006ed1439f9cb6e6109247521b": {
          "model_module": "@jupyter-widgets/controls",
          "model_module_version": "1.5.0",
          "model_name": "DescriptionStyleModel",
          "state": {
            "_model_module": "@jupyter-widgets/controls",
            "_model_module_version": "1.5.0",
            "_model_name": "DescriptionStyleModel",
            "_view_count": null,
            "_view_module": "@jupyter-widgets/base",
            "_view_module_version": "1.2.0",
            "_view_name": "StyleView",
            "description_width": ""
          }
        },
        "b92c657134f948e2955eba4cfea3f419": {
          "model_module": "@jupyter-widgets/controls",
          "model_module_version": "1.5.0",
          "model_name": "HBoxModel",
          "state": {
            "_dom_classes": [],
            "_model_module": "@jupyter-widgets/controls",
            "_model_module_version": "1.5.0",
            "_model_name": "HBoxModel",
            "_view_count": null,
            "_view_module": "@jupyter-widgets/controls",
            "_view_module_version": "1.5.0",
            "_view_name": "HBoxView",
            "box_style": "",
            "children": [
              "IPY_MODEL_bd9896fb3b5d4e0096bbe81f0d22fef4",
              "IPY_MODEL_24358a0ca54d42a48066b315752ce0f6",
              "IPY_MODEL_aa1cbf0fca7747739b34ce6f38dba867"
            ],
            "layout": "IPY_MODEL_8fd8b653fada48f79e0eb9b6940dfc41"
          }
        },
        "ba25c6ee5f8a4e2cb963c90d54cb724e": {
          "model_module": "@jupyter-widgets/base",
          "model_module_version": "1.2.0",
          "model_name": "LayoutModel",
          "state": {
            "_model_module": "@jupyter-widgets/base",
            "_model_module_version": "1.2.0",
            "_model_name": "LayoutModel",
            "_view_count": null,
            "_view_module": "@jupyter-widgets/base",
            "_view_module_version": "1.2.0",
            "_view_name": "LayoutView",
            "align_content": null,
            "align_items": null,
            "align_self": null,
            "border": null,
            "bottom": null,
            "display": null,
            "flex": null,
            "flex_flow": null,
            "grid_area": null,
            "grid_auto_columns": null,
            "grid_auto_flow": null,
            "grid_auto_rows": null,
            "grid_column": null,
            "grid_gap": null,
            "grid_row": null,
            "grid_template_areas": null,
            "grid_template_columns": null,
            "grid_template_rows": null,
            "height": null,
            "justify_content": null,
            "justify_items": null,
            "left": null,
            "margin": null,
            "max_height": null,
            "max_width": null,
            "min_height": null,
            "min_width": null,
            "object_fit": null,
            "object_position": null,
            "order": null,
            "overflow": null,
            "overflow_x": null,
            "overflow_y": null,
            "padding": null,
            "right": null,
            "top": null,
            "visibility": null,
            "width": null
          }
        },
        "ba4016cedcd64024ba2dab3b17925ae0": {
          "model_module": "@jupyter-widgets/controls",
          "model_module_version": "1.5.0",
          "model_name": "HTMLModel",
          "state": {
            "_dom_classes": [],
            "_model_module": "@jupyter-widgets/controls",
            "_model_module_version": "1.5.0",
            "_model_name": "HTMLModel",
            "_view_count": null,
            "_view_module": "@jupyter-widgets/controls",
            "_view_module_version": "1.5.0",
            "_view_name": "HTMLView",
            "description": "",
            "description_tooltip": null,
            "layout": "IPY_MODEL_e4e683fde3b84548b56f026d5c64f4c7",
            "placeholder": "​",
            "style": "IPY_MODEL_acdce086c19f402e84be5d3a43ca4efe",
            "value": " 54/54 [00:01&lt;00:00, 29.22it/s]"
          }
        },
        "bcfa352cff794a349dfd8fa312372b8e": {
          "model_module": "@jupyter-widgets/base",
          "model_module_version": "1.2.0",
          "model_name": "LayoutModel",
          "state": {
            "_model_module": "@jupyter-widgets/base",
            "_model_module_version": "1.2.0",
            "_model_name": "LayoutModel",
            "_view_count": null,
            "_view_module": "@jupyter-widgets/base",
            "_view_module_version": "1.2.0",
            "_view_name": "LayoutView",
            "align_content": null,
            "align_items": null,
            "align_self": null,
            "border": null,
            "bottom": null,
            "display": null,
            "flex": null,
            "flex_flow": null,
            "grid_area": null,
            "grid_auto_columns": null,
            "grid_auto_flow": null,
            "grid_auto_rows": null,
            "grid_column": null,
            "grid_gap": null,
            "grid_row": null,
            "grid_template_areas": null,
            "grid_template_columns": null,
            "grid_template_rows": null,
            "height": null,
            "justify_content": null,
            "justify_items": null,
            "left": null,
            "margin": null,
            "max_height": null,
            "max_width": null,
            "min_height": null,
            "min_width": null,
            "object_fit": null,
            "object_position": null,
            "order": null,
            "overflow": null,
            "overflow_x": null,
            "overflow_y": null,
            "padding": null,
            "right": null,
            "top": null,
            "visibility": null,
            "width": null
          }
        },
        "bd9896fb3b5d4e0096bbe81f0d22fef4": {
          "model_module": "@jupyter-widgets/controls",
          "model_module_version": "1.5.0",
          "model_name": "HTMLModel",
          "state": {
            "_dom_classes": [],
            "_model_module": "@jupyter-widgets/controls",
            "_model_module_version": "1.5.0",
            "_model_name": "HTMLModel",
            "_view_count": null,
            "_view_module": "@jupyter-widgets/controls",
            "_view_module_version": "1.5.0",
            "_view_name": "HTMLView",
            "description": "",
            "description_tooltip": null,
            "layout": "IPY_MODEL_0321c83141eb409f98b740c15d16373b",
            "placeholder": "​",
            "style": "IPY_MODEL_99483e6f13f6400bbf7b00c2713ccd5c",
            "value": "Training: 100%"
          }
        },
        "c17d797c7dab45aeaf87efdd39d1583c": {
          "model_module": "@jupyter-widgets/controls",
          "model_module_version": "1.5.0",
          "model_name": "DescriptionStyleModel",
          "state": {
            "_model_module": "@jupyter-widgets/controls",
            "_model_module_version": "1.5.0",
            "_model_name": "DescriptionStyleModel",
            "_view_count": null,
            "_view_module": "@jupyter-widgets/base",
            "_view_module_version": "1.2.0",
            "_view_name": "StyleView",
            "description_width": ""
          }
        },
        "c4e35fd9a65d4c8d88f8564a2b77731b": {
          "model_module": "@jupyter-widgets/controls",
          "model_module_version": "1.5.0",
          "model_name": "HTMLModel",
          "state": {
            "_dom_classes": [],
            "_model_module": "@jupyter-widgets/controls",
            "_model_module_version": "1.5.0",
            "_model_name": "HTMLModel",
            "_view_count": null,
            "_view_module": "@jupyter-widgets/controls",
            "_view_module_version": "1.5.0",
            "_view_name": "HTMLView",
            "description": "",
            "description_tooltip": null,
            "layout": "IPY_MODEL_4d33b97c23894921bfda96dbf8c00479",
            "placeholder": "​",
            "style": "IPY_MODEL_cb0b28850c1746eeac68ba486dab086c",
            "value": "Training: 100%"
          }
        },
        "c606e15df00b48b8b17ba6cd5dc0efe2": {
          "model_module": "@jupyter-widgets/base",
          "model_module_version": "1.2.0",
          "model_name": "LayoutModel",
          "state": {
            "_model_module": "@jupyter-widgets/base",
            "_model_module_version": "1.2.0",
            "_model_name": "LayoutModel",
            "_view_count": null,
            "_view_module": "@jupyter-widgets/base",
            "_view_module_version": "1.2.0",
            "_view_name": "LayoutView",
            "align_content": null,
            "align_items": null,
            "align_self": null,
            "border": null,
            "bottom": null,
            "display": null,
            "flex": null,
            "flex_flow": null,
            "grid_area": null,
            "grid_auto_columns": null,
            "grid_auto_flow": null,
            "grid_auto_rows": null,
            "grid_column": null,
            "grid_gap": null,
            "grid_row": null,
            "grid_template_areas": null,
            "grid_template_columns": null,
            "grid_template_rows": null,
            "height": null,
            "justify_content": null,
            "justify_items": null,
            "left": null,
            "margin": null,
            "max_height": null,
            "max_width": null,
            "min_height": null,
            "min_width": null,
            "object_fit": null,
            "object_position": null,
            "order": null,
            "overflow": null,
            "overflow_x": null,
            "overflow_y": null,
            "padding": null,
            "right": null,
            "top": null,
            "visibility": null,
            "width": null
          }
        },
        "c6c2c757bd644371938ccf6512979710": {
          "model_module": "@jupyter-widgets/controls",
          "model_module_version": "1.5.0",
          "model_name": "HTMLModel",
          "state": {
            "_dom_classes": [],
            "_model_module": "@jupyter-widgets/controls",
            "_model_module_version": "1.5.0",
            "_model_name": "HTMLModel",
            "_view_count": null,
            "_view_module": "@jupyter-widgets/controls",
            "_view_module_version": "1.5.0",
            "_view_name": "HTMLView",
            "description": "",
            "description_tooltip": null,
            "layout": "IPY_MODEL_c606e15df00b48b8b17ba6cd5dc0efe2",
            "placeholder": "​",
            "style": "IPY_MODEL_685bde8173fc44c698f7ad3fa565a5cd",
            "value": "Pseudo-labeling: 100%"
          }
        },
        "cb0b28850c1746eeac68ba486dab086c": {
          "model_module": "@jupyter-widgets/controls",
          "model_module_version": "1.5.0",
          "model_name": "DescriptionStyleModel",
          "state": {
            "_model_module": "@jupyter-widgets/controls",
            "_model_module_version": "1.5.0",
            "_model_name": "DescriptionStyleModel",
            "_view_count": null,
            "_view_module": "@jupyter-widgets/base",
            "_view_module_version": "1.2.0",
            "_view_name": "StyleView",
            "description_width": ""
          }
        },
        "cdb7f5179e9544e58ec1202fa701c060": {
          "model_module": "@jupyter-widgets/base",
          "model_module_version": "1.2.0",
          "model_name": "LayoutModel",
          "state": {
            "_model_module": "@jupyter-widgets/base",
            "_model_module_version": "1.2.0",
            "_model_name": "LayoutModel",
            "_view_count": null,
            "_view_module": "@jupyter-widgets/base",
            "_view_module_version": "1.2.0",
            "_view_name": "LayoutView",
            "align_content": null,
            "align_items": null,
            "align_self": null,
            "border": null,
            "bottom": null,
            "display": null,
            "flex": null,
            "flex_flow": null,
            "grid_area": null,
            "grid_auto_columns": null,
            "grid_auto_flow": null,
            "grid_auto_rows": null,
            "grid_column": null,
            "grid_gap": null,
            "grid_row": null,
            "grid_template_areas": null,
            "grid_template_columns": null,
            "grid_template_rows": null,
            "height": null,
            "justify_content": null,
            "justify_items": null,
            "left": null,
            "margin": null,
            "max_height": null,
            "max_width": null,
            "min_height": null,
            "min_width": null,
            "object_fit": null,
            "object_position": null,
            "order": null,
            "overflow": null,
            "overflow_x": null,
            "overflow_y": null,
            "padding": null,
            "right": null,
            "top": null,
            "visibility": null,
            "width": null
          }
        },
        "cf2f89241b41401e9336a6ec2fbe89a7": {
          "model_module": "@jupyter-widgets/controls",
          "model_module_version": "1.5.0",
          "model_name": "ProgressStyleModel",
          "state": {
            "_model_module": "@jupyter-widgets/controls",
            "_model_module_version": "1.5.0",
            "_model_name": "ProgressStyleModel",
            "_view_count": null,
            "_view_module": "@jupyter-widgets/base",
            "_view_module_version": "1.2.0",
            "_view_name": "StyleView",
            "bar_color": null,
            "description_width": ""
          }
        },
        "d19ed4af36cd4597869a020b4329b0df": {
          "model_module": "@jupyter-widgets/controls",
          "model_module_version": "1.5.0",
          "model_name": "DescriptionStyleModel",
          "state": {
            "_model_module": "@jupyter-widgets/controls",
            "_model_module_version": "1.5.0",
            "_model_name": "DescriptionStyleModel",
            "_view_count": null,
            "_view_module": "@jupyter-widgets/base",
            "_view_module_version": "1.2.0",
            "_view_name": "StyleView",
            "description_width": ""
          }
        },
        "d39b8a759e1d419a8bba077b86eec07d": {
          "model_module": "@jupyter-widgets/base",
          "model_module_version": "1.2.0",
          "model_name": "LayoutModel",
          "state": {
            "_model_module": "@jupyter-widgets/base",
            "_model_module_version": "1.2.0",
            "_model_name": "LayoutModel",
            "_view_count": null,
            "_view_module": "@jupyter-widgets/base",
            "_view_module_version": "1.2.0",
            "_view_name": "LayoutView",
            "align_content": null,
            "align_items": null,
            "align_self": null,
            "border": null,
            "bottom": null,
            "display": null,
            "flex": null,
            "flex_flow": null,
            "grid_area": null,
            "grid_auto_columns": null,
            "grid_auto_flow": null,
            "grid_auto_rows": null,
            "grid_column": null,
            "grid_gap": null,
            "grid_row": null,
            "grid_template_areas": null,
            "grid_template_columns": null,
            "grid_template_rows": null,
            "height": null,
            "justify_content": null,
            "justify_items": null,
            "left": null,
            "margin": null,
            "max_height": null,
            "max_width": null,
            "min_height": null,
            "min_width": null,
            "object_fit": null,
            "object_position": null,
            "order": null,
            "overflow": null,
            "overflow_x": null,
            "overflow_y": null,
            "padding": null,
            "right": null,
            "top": null,
            "visibility": null,
            "width": null
          }
        },
        "d8f40b1129e64e7282312ccc465ab3c6": {
          "model_module": "@jupyter-widgets/controls",
          "model_module_version": "1.5.0",
          "model_name": "DescriptionStyleModel",
          "state": {
            "_model_module": "@jupyter-widgets/controls",
            "_model_module_version": "1.5.0",
            "_model_name": "DescriptionStyleModel",
            "_view_count": null,
            "_view_module": "@jupyter-widgets/base",
            "_view_module_version": "1.2.0",
            "_view_name": "StyleView",
            "description_width": ""
          }
        },
        "dd326d0cc49e4d51bc1029b44b8a5631": {
          "model_module": "@jupyter-widgets/base",
          "model_module_version": "1.2.0",
          "model_name": "LayoutModel",
          "state": {
            "_model_module": "@jupyter-widgets/base",
            "_model_module_version": "1.2.0",
            "_model_name": "LayoutModel",
            "_view_count": null,
            "_view_module": "@jupyter-widgets/base",
            "_view_module_version": "1.2.0",
            "_view_name": "LayoutView",
            "align_content": null,
            "align_items": null,
            "align_self": null,
            "border": null,
            "bottom": null,
            "display": null,
            "flex": null,
            "flex_flow": null,
            "grid_area": null,
            "grid_auto_columns": null,
            "grid_auto_flow": null,
            "grid_auto_rows": null,
            "grid_column": null,
            "grid_gap": null,
            "grid_row": null,
            "grid_template_areas": null,
            "grid_template_columns": null,
            "grid_template_rows": null,
            "height": null,
            "justify_content": null,
            "justify_items": null,
            "left": null,
            "margin": null,
            "max_height": null,
            "max_width": null,
            "min_height": null,
            "min_width": null,
            "object_fit": null,
            "object_position": null,
            "order": null,
            "overflow": null,
            "overflow_x": null,
            "overflow_y": null,
            "padding": null,
            "right": null,
            "top": null,
            "visibility": null,
            "width": null
          }
        },
        "df03406298f94f1db462df4007c99895": {
          "model_module": "@jupyter-widgets/controls",
          "model_module_version": "1.5.0",
          "model_name": "DescriptionStyleModel",
          "state": {
            "_model_module": "@jupyter-widgets/controls",
            "_model_module_version": "1.5.0",
            "_model_name": "DescriptionStyleModel",
            "_view_count": null,
            "_view_module": "@jupyter-widgets/base",
            "_view_module_version": "1.2.0",
            "_view_name": "StyleView",
            "description_width": ""
          }
        },
        "dff5bb52c4294d2ab9fcae8c1a306649": {
          "model_module": "@jupyter-widgets/controls",
          "model_module_version": "1.5.0",
          "model_name": "ProgressStyleModel",
          "state": {
            "_model_module": "@jupyter-widgets/controls",
            "_model_module_version": "1.5.0",
            "_model_name": "ProgressStyleModel",
            "_view_count": null,
            "_view_module": "@jupyter-widgets/base",
            "_view_module_version": "1.2.0",
            "_view_name": "StyleView",
            "bar_color": null,
            "description_width": ""
          }
        },
        "e4e683fde3b84548b56f026d5c64f4c7": {
          "model_module": "@jupyter-widgets/base",
          "model_module_version": "1.2.0",
          "model_name": "LayoutModel",
          "state": {
            "_model_module": "@jupyter-widgets/base",
            "_model_module_version": "1.2.0",
            "_model_name": "LayoutModel",
            "_view_count": null,
            "_view_module": "@jupyter-widgets/base",
            "_view_module_version": "1.2.0",
            "_view_name": "LayoutView",
            "align_content": null,
            "align_items": null,
            "align_self": null,
            "border": null,
            "bottom": null,
            "display": null,
            "flex": null,
            "flex_flow": null,
            "grid_area": null,
            "grid_auto_columns": null,
            "grid_auto_flow": null,
            "grid_auto_rows": null,
            "grid_column": null,
            "grid_gap": null,
            "grid_row": null,
            "grid_template_areas": null,
            "grid_template_columns": null,
            "grid_template_rows": null,
            "height": null,
            "justify_content": null,
            "justify_items": null,
            "left": null,
            "margin": null,
            "max_height": null,
            "max_width": null,
            "min_height": null,
            "min_width": null,
            "object_fit": null,
            "object_position": null,
            "order": null,
            "overflow": null,
            "overflow_x": null,
            "overflow_y": null,
            "padding": null,
            "right": null,
            "top": null,
            "visibility": null,
            "width": null
          }
        },
        "ed3759d5303b46d8b42ee9f7d6b755cf": {
          "model_module": "@jupyter-widgets/controls",
          "model_module_version": "1.5.0",
          "model_name": "ProgressStyleModel",
          "state": {
            "_model_module": "@jupyter-widgets/controls",
            "_model_module_version": "1.5.0",
            "_model_name": "ProgressStyleModel",
            "_view_count": null,
            "_view_module": "@jupyter-widgets/base",
            "_view_module_version": "1.2.0",
            "_view_name": "StyleView",
            "bar_color": null,
            "description_width": ""
          }
        },
        "ef98e243cdb74d0d84d0ad99a838ff8c": {
          "model_module": "@jupyter-widgets/controls",
          "model_module_version": "1.5.0",
          "model_name": "HTMLModel",
          "state": {
            "_dom_classes": [],
            "_model_module": "@jupyter-widgets/controls",
            "_model_module_version": "1.5.0",
            "_model_name": "HTMLModel",
            "_view_count": null,
            "_view_module": "@jupyter-widgets/controls",
            "_view_module_version": "1.5.0",
            "_view_name": "HTMLView",
            "description": "",
            "description_tooltip": null,
            "layout": "IPY_MODEL_3a6abe959d844d64b25170755290cb8a",
            "placeholder": "​",
            "style": "IPY_MODEL_b704e0006ed1439f9cb6e6109247521b",
            "value": " 622/622 [00:25&lt;00:00, 24.64it/s]"
          }
        },
        "f3079a34686b4185a4bef048fe980c7f": {
          "model_module": "@jupyter-widgets/controls",
          "model_module_version": "1.5.0",
          "model_name": "ProgressStyleModel",
          "state": {
            "_model_module": "@jupyter-widgets/controls",
            "_model_module_version": "1.5.0",
            "_model_name": "ProgressStyleModel",
            "_view_count": null,
            "_view_module": "@jupyter-widgets/base",
            "_view_module_version": "1.2.0",
            "_view_name": "StyleView",
            "bar_color": null,
            "description_width": ""
          }
        },
        "f347bf013ede4eab9c5e10465558d643": {
          "model_module": "@jupyter-widgets/controls",
          "model_module_version": "1.5.0",
          "model_name": "HBoxModel",
          "state": {
            "_dom_classes": [],
            "_model_module": "@jupyter-widgets/controls",
            "_model_module_version": "1.5.0",
            "_model_name": "HBoxModel",
            "_view_count": null,
            "_view_module": "@jupyter-widgets/controls",
            "_view_module_version": "1.5.0",
            "_view_name": "HBoxView",
            "box_style": "",
            "children": [
              "IPY_MODEL_7e207e313a6646aa803fd63ef5d5d761",
              "IPY_MODEL_124157f800154a57ae61581ea2b8cbd5",
              "IPY_MODEL_59adb31ee0384465a8a512697b457e9c"
            ],
            "layout": "IPY_MODEL_3b7fb640e2a34c9db4a659ed085af852"
          }
        },
        "ffc9bb993b0a455db0cdd2921ad3defe": {
          "model_module": "@jupyter-widgets/base",
          "model_module_version": "1.2.0",
          "model_name": "LayoutModel",
          "state": {
            "_model_module": "@jupyter-widgets/base",
            "_model_module_version": "1.2.0",
            "_model_name": "LayoutModel",
            "_view_count": null,
            "_view_module": "@jupyter-widgets/base",
            "_view_module_version": "1.2.0",
            "_view_name": "LayoutView",
            "align_content": null,
            "align_items": null,
            "align_self": null,
            "border": null,
            "bottom": null,
            "display": null,
            "flex": null,
            "flex_flow": null,
            "grid_area": null,
            "grid_auto_columns": null,
            "grid_auto_flow": null,
            "grid_auto_rows": null,
            "grid_column": null,
            "grid_gap": null,
            "grid_row": null,
            "grid_template_areas": null,
            "grid_template_columns": null,
            "grid_template_rows": null,
            "height": null,
            "justify_content": null,
            "justify_items": null,
            "left": null,
            "margin": null,
            "max_height": null,
            "max_width": null,
            "min_height": null,
            "min_width": null,
            "object_fit": null,
            "object_position": null,
            "order": null,
            "overflow": null,
            "overflow_x": null,
            "overflow_y": null,
            "padding": null,
            "right": null,
            "top": null,
            "visibility": null,
            "width": null
          }
        }
      }
    }
  },
  "nbformat": 4,
  "nbformat_minor": 0
}
